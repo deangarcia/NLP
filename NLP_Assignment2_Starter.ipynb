{
  "nbformat": 4,
  "nbformat_minor": 0,
  "metadata": {
    "colab": {
      "name": "NLP_Assignment2_Starter.ipynb",
      "provenance": [],
      "collapsed_sections": [],
      "include_colab_link": true
    },
    "kernelspec": {
      "name": "python3",
      "display_name": "Python 3"
    },
    "accelerator": "GPU"
  },
  "cells": [
    {
      "cell_type": "markdown",
      "metadata": {
        "id": "view-in-github",
        "colab_type": "text"
      },
      "source": [
        "<a href=\"https://colab.research.google.com/github/deangarcia/NLP/blob/main/NLP_Assignment2_Starter.ipynb\" target=\"_parent\"><img src=\"https://colab.research.google.com/assets/colab-badge.svg\" alt=\"Open In Colab\"/></a>"
      ]
    },
    {
      "cell_type": "markdown",
      "metadata": {
        "id": "bdlZYgLKwBMk"
      },
      "source": [
        "In this assignment, you will familiarize yourself with:\n",
        "\n",
        "    spaCy\n",
        "    numpy\n",
        "    PyTorch\n",
        "\n",
        "to develop\n",
        "\n",
        "    Multiple sentiment analysis models\n",
        "\n",
        "to be able to\n",
        "\n",
        "    Predict whether a given review is positive or negative\n",
        "\n",
        "Before we begin, make sure your runtime is set to GPU -- \n",
        "\n",
        "Runtime > Change runtime type set to GPU\n",
        "\n",
        "First we will load in some data.\n",
        "\n",
        "Provided is code that will download a file and rename it to reviews.tar.gz\n"
      ]
    },
    {
      "cell_type": "code",
      "metadata": {
        "id": "ey-RadaCv6uE",
        "outputId": "12ed92b4-8274-4d6b-c26f-b2f311ce246b",
        "colab": {
          "base_uri": "https://localhost:8080/"
        }
      },
      "source": [
        "\n",
        "!wget http://ai.stanford.edu/~amaas/data/sentiment/aclImdb_v1.tar.gz \n",
        "!tar -xf aclImdb_v1.tar.gz\n",
        "positive_reviews = !ls -1 -d aclImdb/train/pos/*\n",
        "negative_reviews = !ls -1 -d aclImdb/train/neg/*\n",
        "unsupervised_reviews = !ls -1 -d aclImdb/train/unsup/*\n",
        "\n",
        "vocabulary = set()\n",
        "\n",
        "with open('./aclImdb/imdb.vocab') as vocab_file:\n",
        "  for word in vocab_file:\n",
        "    vocabulary.add(word.rstrip())\n",
        "\n",
        "with open(positive_reviews[0]) as review:\n",
        "  for line in review:\n",
        "    for word in line.rstrip().split(' '):\n",
        "      if word not in vocabulary:\n",
        "        print(word)\n"
      ],
      "execution_count": null,
      "outputs": [
        {
          "output_type": "stream",
          "name": "stdout",
          "text": [
            "--2022-03-01 19:55:27--  http://ai.stanford.edu/~amaas/data/sentiment/aclImdb_v1.tar.gz\n",
            "Resolving ai.stanford.edu (ai.stanford.edu)... 171.64.68.10\n",
            "Connecting to ai.stanford.edu (ai.stanford.edu)|171.64.68.10|:80... connected.\n",
            "HTTP request sent, awaiting response... 200 OK\n",
            "Length: 84125825 (80M) [application/x-gzip]\n",
            "Saving to: ‘aclImdb_v1.tar.gz’\n",
            "\n",
            "aclImdb_v1.tar.gz   100%[===================>]  80.23M  17.3MB/s    in 8.2s    \n",
            "\n",
            "2022-03-01 19:55:36 (9.77 MB/s) - ‘aclImdb_v1.tar.gz’ saved [84125825/84125825]\n",
            "\n"
          ]
        }
      ]
    },
    {
      "cell_type": "code",
      "metadata": {
        "id": "F_HmkdK3wxY3"
      },
      "source": [
        "!tar -xf aclImdb_v1.tar.gz\n",
        "positive_reviews = !ls -1 -d aclImdb/train/pos/*\n",
        "negative_reviews = !ls -1 -d aclImdb/train/neg/*\n",
        "unsupervised_reviews = !ls -1 -d aclImdb/train/unsup/*\n",
        "\n",
        "vocabulary = set()\n",
        "\n",
        "with open('./aclImdb/imdb.vocab') as vocab_file:\n",
        "  for word in vocab_file:\n",
        "    vocabulary.add(word.rstrip())\n",
        "\n",
        "with open(positive_reviews[0]) as review:\n",
        "  for line in review:\n",
        "    for word in line.rstrip().split(' '):\n",
        "      if word not in vocabulary:\n",
        "        print(word)"
      ],
      "execution_count": null,
      "outputs": []
    },
    {
      "cell_type": "markdown",
      "metadata": {
        "id": "EPUCX7P0x4c7"
      },
      "source": [
        "Included is a vocabulary of all the words we can potentially see -- No '\\<UNK\\>' *here*"
      ]
    },
    {
      "cell_type": "code",
      "metadata": {
        "id": "T_1Hn4muw4Lp",
        "colab": {
          "base_uri": "https://localhost:8080/"
        },
        "outputId": "cf322229-d055-432e-ea2b-9a18ebccdcd7"
      },
      "source": [
        "!head aclImdb/imdb.vocab"
      ],
      "execution_count": null,
      "outputs": [
        {
          "output_type": "stream",
          "name": "stdout",
          "text": [
            "the\n",
            "and\n",
            "a\n",
            "of\n",
            "to\n",
            "is\n",
            "it\n",
            "in\n",
            "i\n",
            "this\n"
          ]
        }
      ]
    },
    {
      "cell_type": "code",
      "metadata": {
        "id": "xSJuI0nWw6Mv"
      },
      "source": [
        "positive_reviews = !ls -1 -d aclImdb/train/pos/*\n",
        "negative_reviews = !ls -1 -d aclImdb/train/neg/*\n",
        "unsupervised_reviews = !ls -1 -d aclImdb/train/unsup/*\n",
        "\n",
        "vocabulary = set()\n",
        "\n",
        "with open('./aclImdb/imdb.vocab') as vocab_file:\n",
        "  for word in vocab_file:\n",
        "    vocabulary.add(word.rstrip())\n",
        "\n",
        "with open(positive_reviews[0]) as review:\n",
        "  for line in review:\n",
        "    for word in line.rstrip().split(' '):\n",
        "      if word not in vocabulary:\n",
        "        print(word)"
      ],
      "execution_count": null,
      "outputs": []
    },
    {
      "cell_type": "code",
      "metadata": {
        "id": "qYtSRvqvxDiQ",
        "colab": {
          "base_uri": "https://localhost:8080/"
        },
        "outputId": "73026edf-5dde-4cad-8f57-41f8c99a9b67"
      },
      "source": [
        "print('Positive #',len(positive_reviews))\n",
        "print('Negative #',len(negative_reviews))\n",
        "print('Unsupervised #',len(unsupervised_reviews))"
      ],
      "execution_count": null,
      "outputs": [
        {
          "output_type": "stream",
          "name": "stdout",
          "text": [
            "Positive # 12500\n",
            "Negative # 12500\n",
            "Unsupervised # 50000\n"
          ]
        }
      ]
    },
    {
      "cell_type": "markdown",
      "metadata": {
        "id": "-KAYND-Byigx"
      },
      "source": [
        "So, we have 12500 reviews for positive and negative classifications, and 50000 that are unlabeled.  "
      ]
    },
    {
      "cell_type": "code",
      "metadata": {
        "id": "v_kX78PMxmr-"
      },
      "source": [
        "vocabulary = set()\n",
        "\n",
        "with open('./aclImdb/imdb.vocab') as vocab_file:\n",
        "  for word in vocab_file:\n",
        "    vocabulary.add(word.rstrip())\n",
        "\n",
        "with open(positive_reviews[0]) as review:\n",
        "  for line in review:\n",
        "    for word in line.rstrip().split(' '):\n",
        "      if word not in vocabulary:\n",
        "        print(word)"
      ],
      "execution_count": null,
      "outputs": []
    },
    {
      "cell_type": "code",
      "metadata": {
        "id": "pZL3D74Ry7h1",
        "colab": {
          "base_uri": "https://localhost:8080/"
        },
        "outputId": "69dd0d54-b82c-4cd2-942d-9fb073148324"
      },
      "source": [
        "with open(positive_reviews[0]) as review:\n",
        "  for line in review:\n",
        "    for word in line.rstrip().split(' '):\n",
        "      if word not in vocabulary:\n",
        "        print(word)\n",
        "        "
      ],
      "execution_count": null,
      "outputs": [
        {
          "output_type": "stream",
          "name": "stdout",
          "text": [
            "Bromwell\n",
            "High\n",
            "comedy.\n",
            "It\n",
            "life,\n",
            "\"Teachers\".\n",
            "My\n",
            "35\n",
            "Bromwell\n",
            "High's\n",
            "\"Teachers\".\n",
            "The\n",
            "financially,\n",
            "teachers'\n",
            "pomp,\n",
            "situation,\n",
            "I\n",
            "students.\n",
            "When\n",
            "I\n",
            "school,\n",
            "I\n",
            ".........\n",
            "..........\n",
            "High.\n",
            "A\n",
            "line:\n",
            "INSPECTOR:\n",
            "I'm\n",
            "teachers.\n",
            "STUDENT:\n",
            "Welcome\n",
            "Bromwell\n",
            "High.\n",
            "I\n",
            "Bromwell\n",
            "High\n",
            "fetched.\n",
            "What\n",
            "isn't!\n"
          ]
        }
      ]
    },
    {
      "cell_type": "markdown",
      "metadata": {
        "id": "UtD78S4P0Rc9"
      },
      "source": [
        "Looking at the words in a review that don't show up in the vocab, we need to handle punctuation in a more delicate way (also, we will be making everything lower cased).  For this, we will turn to a standard modern NLP library spaCy.  spaCy is a library that handles a number of different low-level NLP tasks like tokenization, part-of-speech recognition, and named entity recognition.  For now, we will be focusing on the tokenization aspect.\n",
        "\n"
      ]
    },
    {
      "cell_type": "code",
      "metadata": {
        "id": "OPee_7Slzqpx"
      },
      "source": [
        "from spacy.lang.en import English\n",
        "nlp = English()\n",
        "# Create a Tokenizer with the default settings for English\n",
        "# including punctuation rules and exceptions\n",
        "tokenizer = nlp.Defaults.create_tokenizer(nlp)\n",
        "counts = {}\n",
        "for review in positive_reviews + negative_reviews:\n",
        "  with open(review) as review:\n",
        "    for line in review:\n",
        "      for word in tokenizer(line.rstrip().lower()):\n",
        "        if word.text not in vocabulary:\n",
        "          pass\n",
        "        else:\n",
        "          counts[word.text] = counts.get(word.text,0) + 1\n"
      ],
      "execution_count": null,
      "outputs": []
    },
    {
      "cell_type": "code",
      "metadata": {
        "id": "ffQ9bSOrX9qm"
      },
      "source": [
        "count2words = {}\n",
        "for word in counts:\n",
        "  count = counts[word]\n",
        "  if count not in count2words:\n",
        "    count2words[count] = []\n",
        "  count2words[count].append(word)\n",
        "\n"
      ],
      "execution_count": null,
      "outputs": []
    },
    {
      "cell_type": "code",
      "metadata": {
        "id": "0EpTS_NYYLjP"
      },
      "source": [
        "running_total = 0\n",
        "vocabulary = []\n",
        "for count in reversed(sorted(count2words)):\n",
        "  running_total += len(count2words[count])\n",
        "  vocabulary += count2words[count]\n",
        "  if running_total > 10000:\n",
        "    break"
      ],
      "execution_count": null,
      "outputs": []
    },
    {
      "cell_type": "code",
      "metadata": {
        "id": "rlXw7q_NY5NI",
        "colab": {
          "base_uri": "https://localhost:8080/"
        },
        "outputId": "6a1857cd-292b-48ee-d562-39b9cdc817e4"
      },
      "source": [
        "print(vocabulary)"
      ],
      "execution_count": null,
      "outputs": [
        {
          "output_type": "stream",
          "name": "stdout",
          "text": [
            "['the', 'and', 'a', 'of', 'to', 'is', 'it', 'in', 'i', 'this', 'that', 'was', 'as', 'for', 'with', 'movie', 'but', 'film', 'on', 'you', \"n't\", 'not', 'are', 'he', 'his', 'have', 'be', 'one', 'all', 'at', 'they', 'by', '!', 'an', 'who', 'from', 'like', 'so', 'her', 'or', 'just', 'there', 'do', 'about', 'has', 'out', 'if', 'what', 'some', 'good', '?', 'she', 'more', 'very', 'when', 'would', 'up', 'no', 'even', 'time', 'can', 'my', 'which', 'only', 'story', 'really', 'had', 'their', 'see', 'were', 'we', 'me', 'did', 'does', 'well', 'than', 'much', 'could', 'get', 'been', 'will', 'people', 'bad', 'into', 'other', 'because', 'great', 'also', 'first', 'how', 'most', 'him', 'made', 'its', 'make', 'then', 'way', 'them', 'too', 'any', 'movies', 'after', 'br', 'think', 'characters', 'character', 'two', 'watch', 'films', 'many', 'seen', 'being', 'never', 'plot', 'life', 'little', 'love', 'acting', 'where', 'best', 'over', 'show', 'know', 'off', 'ever', 'man', 'your', 'better', 'still', 'here', 'end', 'say', 'should', 'these', 'scene', 'why', 'scenes', 'such', 'go', 'while', 'something', 'through', 'back', 'real', 'those', 'watching', 'old', 'thing', 'though', 'years', 'actors', 'new', 'director', 'work', 'before', 'nothing', 'now', 'actually', 'makes', 'funny', 'find', 'another', 'look', 'going', 'few', 'same', 'part', 'lot', 'every', 'again', 'cast', 'ca', 'us', 'quite', 'world', 'got', 'want', 'down', 'pretty', 'young', 'things', 'seems', 'around', 'horror', 'fact', 'take', 'big', 'thought', 'enough', 'long', 'between', 'may', 'give', 'both', 'original', 'series', 'own', 'action', 'must', 'however', 'right', 'without', 'always', 'gets', 'comedy', 'saw', 'come', 'point', 'family', 'almost', 'times', 'role', 'least', 'interesting', 'whole', 'bit', 'done', 'guy', 'music', 'script', 'far', 'feel', 'making', 'might', 'anything', 'last', 'minutes', 'performance', 'since', 'probably', 'girl', 'am', 'woman', 'kind', 'tv', 'rather', 'worst', 'away', 'yet', 'day', 'hard', 'sure', 'fun', 'found', 'anyone', 'played', 'each', 'especially', 'believe', 'our', 'comes', 'course', 'having', 'trying', 'looking', 'goes', 'set', 'looks', 'screen', 'book', 'although', 'put', 'different', 'actor', 'place', 'money', 'someone', 'shows', 'ending', 'true', 'sense', 'reason', 'dvd', 'main', 'let', 'once', 'everything', 'three', 'worth', 'watched', 'maybe', 'job', 'american', 'plays', 'play', 'takes', 'said', 'seem', 'everyone', 'effects', 'together', 'high', 'beautiful', 'house', 'instead', 'night', 'john', 'audience', 'later', 'wife', 'himself', 'left', 'during', 'version', 'year', 'special', 'father', 'half', 'seeing', 'star', 'excellent', 'shot', 'black', 'war', 'idea', 'nice', 'less', 'read', 'simply', 'else', 'mind', 'second', 'fan', 'completely', 'used', 'men', 'hollywood', 'help', 'poor', 'death', 'dead', 'short', 'home', 'line', 'need', 'top', 'given', 'try', 'budget', 'kids', 'use', 'classic', 'rest', 'low', 'enjoy', 'women', 'until', 'performances', 'either', 'full', 'friends', 'production', 'camera', 'wrong', 'boring', 'along', 'truly', 'tell', 'couple', 'video', 'start', 'remember', 'came', 'sex', 'mean', 'recommend', 'awful', 'next', 'stupid', 'small', 'stars', 'school', 'understand', 'wonderful', 'playing', 'getting', 'moments', 'face', 'episode', 'perhaps', 'keep', 'terrible', 'human', 'early', 'written', 'doing', 'often', 'gives', 'name', 'perfect', 'person', 'style', 'definitely', 'others', 'become', 'live', 'lost', 'felt', 'piece', 'boy', 'lines', 'supposed', 'dialogue', 'head', 'liked', 'itself', 'case', 'mother', 'white', 'children', 'absolutely', 'against', 'sort', 'entire', 'went', 'certainly', 'waste', 'picture', 'cinema', 'called', 'hope', 'problem', 'killer', 'evil', 'friend', 'finally', 'loved', 'several', 'based', 'worse', 'title', 'yes', 'entertaining', 'becomes', 'drama', 'mr', 'already', 'dark', 'seemed', 'fans', 'beginning', 'care', 'under', 'example', 'lives', 'laugh', 'wanted', 'turn', 'son', 'direction', 'oh', 'fine', 'throughout', 'child', 'totally', 'wo', 'amazing', 'sound', 'lead', 'heart', 'final', 'wants', 'michael', 'guess', 'humor', 'writing', 'guys', 'close', 'tries', 'quality', 'history', 'behind', 'able', 'town', 'works', 'side', 'turns', 'art', 'despite', 'game', 'enjoyed', 'past', 'viewer', 'hand', 'kill', 'unfortunately', 'favorite', 'gave', 'act', 'starts', 'days', 'car', 'run', 'genre', 'actress', 'flick', 'sometimes', 'today', 'girls', 'kid', 'soon', 'self', 'parts', 'horrible', 'city', 'god', 'late', 'eyes', 'directed', 'thinking', 'expect', 'blood', 'stories', 'brilliant', 'themselves', 'voice', 'decent', 'hour', 'obviously', 'fight', 'feeling', 'myself', 'slow', 'stuff', 'daughter', 'writer', 'except', 'highly', 'type', 'matter', 'heard', 'says', 'took', 'etc', 'leave', 'killed', 'age', 'strong', 'moment', 'police', 'brother', 'hit', 'overall', 'particularly', 'known', 'stop', 'roles', 'extremely', 'happens', 'violence', 'involved', 'lack', 'told', 'obvious', 'living', 'happened', 'coming', 'attempt', 'chance', 'including', 'murder', 'wonder', 'james', 'hero', 'complete', 'group', 'alone', 'cut', 'gore', 'simple', 'looked', 'husband', 'experience', 'interest', 'save', 'score', 'number', 'hell', 'ago', 'happen', 'exactly', 'shown', 'song', 'none', 'running', 'whose', 'musical', 'serious', 'taken', 'king', 'english', 'opening', 'david', 'annoying', 'career', 'crap', 'usually', 'cinematography', 'across', 'sad', 'hours', 'somewhat', 'released', 'ends', 'body', 'reality', 'jokes', 'light', 'usual', 'scary', 'relationship', 'started', 'middle', 'wish', 'please', 'yourself', 'finds', 'novel', 'talking', 'huge', 'female', 'cool', 'change', 'possible', 'happy', 'documentary', 'view', 'taking', 'order', 'hilarious', 'shots', 'level', 'ridiculous', 'saying', 'seriously', 'mostly', 'turned', 'room', 'opinion', 'power', 'important', 'modern', 'ones', 'major', 'robert', 'ok', 'episodes', 'strange', 'single', 'word', 'call', 'five', 'talent', 'country', 'b', 'due', 'comic', 'events', 'supporting', 'knew', 'knows', 'apparently', 'earth', 'songs', 'british', 'jack', 'non', 'clearly', 'four', 'class', 'easily', 'tells', 'attention', 'cheap', 'television', 'local', 'thriller', 'fast', 'future', 'words', 'silly', 'miss', 'anyway', 'problems', 'bring', 'sequence', 'basically', 'romantic', 'straight', 'disappointed', 'falls', 'paul', 'sets', 'beyond', 'rock', 'oscar', 'entertainment', 'similar', 'upon', 'lady', 'moving', 'giving', 'talk', 'george', 'whether', 'appears', 'predictable', 'needs', 'mystery', 'rating', 'review', 'near', 'within', 'message', 'stand', 'theater', 'nearly', 'team', 'animation', 'feels', 'enjoyable', 'mention', 'bunch', 'ten', 'sister', 'red', 'named', 'theme', 'richard', 'york', 'above', 'eye', 'points', 'dull', 'actual', 'lee', 'using', 'herself', 'surprised', 'release', 'working', 'easy', 'hate', 'begins', 'sequel', 'feature', 'ways', 'tale', 'french', 'lots', 'add', 'storyline', 'fantastic', 'elements', 'typical', 'clear', 'stay', 'among', 'showing', 're', 'fall', 'die', 'famous', 'comments', 'viewers', 'effort', 'tried', 'follow', 'buy', 'certain', 'editing', 'form', 'weak', 'means', 'kept', 'dialog', 'general', 'figure', 'peter', 'parents', 'doubt', 'leads', 'greatest', 'realistic', 'soundtrack', 'filmed', 'space', 'somehow', 'tom', 'disney', 'season', 'gone', 'material', 'dance', 'brought', 'crime', 'check', 'hear', 'zombie', 'sorry', 'viewing', 'de', 'particular', 'period', 'lame', 'move', 'learn', 'suspense', 'atmosphere', 'sequences', 'third', 'imagine', 'sexual', 'poorly', 'america', 'wait', 'sit', 'decided', 'rent', 'possibly', 'average', 'deal', 'stage', 'japanese', 'eventually', 'reviews', 'premise', 'minute', 'became', 'difficult', 'nature', 'whatever', 'expected', 'killing', 'subject', 'forget', 'free', 'surprise', 'avoid', 'indeed', 'street', 'nor', 'baby', 'leaves', 'dog', 'joe', 'meets', 'hot', 'truth', 'believable', 'screenplay', 'needed', 'romance', 'note', 'reading', 'write', 'directors', 'question', 'meet', 'dramatic', 'begin', 's', 'male', 'sci', 'emotional', 'fi', 'realize', 'forced', 'writers', 'open', 'weird', 'memorable', 'older', 'crazy', 'dr', 'society', 'deep', 'badly', 'monster', 'acted', 'okay', 'credits', 'interested', 'forward', 'superb', 'earlier', 'situation', 'shame', 'keeps', 'beauty', 'dream', 'whom', 'footage', 'ask', 'comment', 'features', 'imdb', 'otherwise', 'unless', 'jane', 'towards', 'fantasy', 'previous', 'cheesy', 'worked', 'brings', 'creepy', 'personal', 'box', 'directing', 'sounds', 'laughs', 'plenty', 'air', 'total', 'perfectly', 'incredibly', 'result', 'admit', 'quickly', 'girlfriend', 'leading', 'development', 'rate', 'unique', 'mark', 'setting', 'plus', 'appear', 'casting', 'cop', 'doctor', 'hands', 'bill', 'return', 'meant', 'fire', 'christmas', 'create', 'hardly', 'present', 'battle', 'boys', 'political', 'business', 'effect', 'background', 'pay', 'powerful', 'gay', 'various', 'joke', 'telling', 'mess', 'fighting', 'secret', 'potential', 'dumb', 'ben', 'twist', 'portrayed', 'break', 'inside', 'outside', 'front', 'western', 'fails', 'ideas', 'fairly', 'missing', 'villain', 'manages', 'rich', 'expecting', 'attempts', 'nudity', 'apart', 'deserves', 'talented', 'masterpiece', 'social', 'married', 'remake', 'era', 'william', 'copy', 'cute', 'flat', 'wrote', 'odd', 'scott', 'reasons', 'agree', 'plain', 'recently', 'crew', 'cold', 'success', 'filmmakers', 'sweet', 'list', 'further', 'pure', 'mentioned', 'large', 'missed', 'incredible', 'match', 'office', 'public', 'gun', 'ended', 'caught', 'co', 'popular', 'waiting', 'mary', 'brothers', 'decides', 'filled', 'members', 'hold', 'science', 'produced', 'uses', 'pace', 'following', 'slightly', 'water', 'wasted', 'party', 'familiar', 'la', 'unlike', 'sadly', 'created', 'cartoon', 'sees', 'revenge', 'considering', 'intelligent', 'spent', 'suddenly', 'cat', 'tension', 'entirely', 'compared', 'spirit', 'kills', 'convincing', 'dancing', 'bored', 'state', 'fear', 'island', 'clever', 'neither', 'visual', 'escape', 'cover', 'moves', 'language', 'italian', 'credit', 'violent', 'laughing', 'band', 'successful', 'animated', 'singing', 'basic', 'biggest', 'german', 'speak', 'positive', 'recent', 'runs', 'studio', 'trouble', 'century', 'tony', 'adult', 'former', 'concept', 'appreciate', 'died', 'value', 'choice', 'spend', 'store', 'consider', 'focus', 'walk', 'control', 'common', 'younger', 'force', 'portrayal', 'company', 'depth', 'exciting', 'solid', 'zombies', 'bizarre', 'amount', 'amusing', 'adventure', 'tone', 'mad', 'super', 'college', 'trash', 'planet', 'hair', 'rated', 'effective', 'law', 'books', 'nt', 'showed', 'van', 'ultimately', 'follows', 'fit', 'producers', 'slasher', 'impressive', 'win', 'heavy', 'impossible', 'respect', 'trip', 'chemistry', 'prison', 'considered', 'barely', 'pointless', 'decide', 'won', 'leaving', 'culture', 'makers', 'dad', 'project', 'cult', 'ghost', 'smith', 'tough', 'honest', 'sick', 'awesome', 'situations', 'cause', 'shooting', 'changed', 'failed', 'anti', 'somewhere', 'starring', 'west', 'audiences', 'brain', 'south', 'fiction', 'accent', 'fake', 'computer', 'longer', 'likes', 'charming', 'jim', 'questions', 'disturbing', 'touch', 'involving', 'steve', 'values', 'images', 'stick', 'literally', 'generally', 'meaning', 'natural', 'military', 'surprisingly', 'immediately', 'post', 'magic', 'bought', 'ex', 'utterly', 'london', 'camp', 'normal', 'harry', 'recommended', 'stewart', 'pathetic', 'thanks', 'ability', 'master', 'sitting', 'fair', 'motion', 'drive', 'pick', 'detective', 'glad', 'appearance', 'shoot', 'pictures', 'week', 'adaptation', 'frank', 'alive', 'standard', 'catch', 'conclusion', 'explain', 'army', 'genius', 'sam', 'silent', 'rare', 'knowing', 'aspect', 'appeal', 'yeah', 'sexy', 'walking', 'remains', 'naked', 'comedies', 'garbage', 'nobody', 'thinks', 'aside', 'chase', 'drawn', 'added', 'twists', 'channel', 'subtle', 'taste', 'humour', 'wild', 'edge', 'road', 'loud', 'purpose', 'beautifully', 'terms', 'nowhere', 'fully', 'journey', 'managed', 'touching', 'equally', 'attack', 'club', 'charlie', 'honestly', 'dreams', 'key', 'complex', 'likely', 'batman', 'mood', 'date', 'blue', 'grade', 'door', 'personally', 'soldiers', 'terrific', 'pieces', 'lovely', 'narrative', 'kelly', 'producer', 'plan', 'excuse', 'themes', 'vampire', 'innocent', 'gang', 'spoilers', 'unbelievable', 'cinematic', 'government', 'noir', 'constantly', 'surely', 'pass', 'marriage', 'central', 'issues', 'slowly', 'soul', 'award', 'outstanding', 'victim', 'presented', 'thrown', 'historical', 'contains', 'painful', 'thank', 'hoping', 'boss', 'costumes', 'smart', 'laughable', 'disappointing', 'animals', 'indian', 'train', 'photography', 'presence', 'climax', 'drug', 'places', 'thus', 'stunning', 'loves', 'mysterious', 'impression', 'details', 'green', 'chris', 'jones', 'christopher', 'church', 'double', 'charm', 'developed', 'scenery', 'mistake', 'color', 'stands', 'charles', 'justice', 'ride', 'sent', 'finish', 'everybody', 'woods', 'critics', 'track', 'wow', 'throw', 'henry', 'paris', 'held', 'numbers', 'serial', 'minor', 'boyfriend', 'million', 'aspects', 'brief', 'expectations', 'mainly', 'manner', 'hotel', 'exception', 'cry', 'festival', 'acts', 'feelings', 'suppose', 'building', 'hey', 'support', 'student', 'lover', 'allen', 'names', 'filming', 'element', 'opportunity', 'changes', 'opera', 'bother', 'falling', 'speaking', 'ahead', 'fascinating', 'intended', 'six', 'emotion', 'shock', 'puts', 'emotions', 'lived', 'tired', 'disappointment', 'available', 'include', 'born', 'giant', 'twice', 'bruce', 'hurt', 'bar', 'likable', 'image', 'suggest', 'confused', 'compelling', 'bed', 'trailer', 'spot', 'fresh', 'jerry', 'fellow', 'forever', 'pain', 'step', 'zero', 'ray', 'appeared', 'followed', 'christian', 'page', 'dies', 'gorgeous', 'putting', 'bottom', 'sub', 'mom', 'alien', 'laughed', 'adults', 'difference', 'mix', 'besides', 'lacks', 'impact', 'share', 'approach', 'direct', 'offer', 'park', 'moral', 'billy', 'happening', 'actresses', 'mediocre', 'event', 'merely', 'summer', 'random', 'proves', 'arthur', 'students', 'creative', 'system', 'rape', 'confusing', 'finding', 'notice', 'land', 'holes', 'murders', 'supposedly', 'answer', 'flying', 'paid', 'wondering', 'helps', 'lighting', 'relationships', 'martin', 'americans', 'victims', 'funniest', 'thin', 'worthy', 'al', 'porn', 'wall', 'content', 'wise', 'latter', 'race', 'delivers', 'damn', 'hospital', 'beat', 'ii', 'childhood', 'absolute', 'provides', 'imagination', 'agent', 'ugly', 'tragedy', 'negative', 'becoming', 'stuck', 'winning', 'addition', 'tragic', 'gem', 'stone', 'impressed', 'fell', 'offers', 'thoroughly', 'forgotten', 'cliché', 'lose', 'flicks', 'soldier', 'attractive', 'pull', 'reminded', 'extreme', 'davis', 'turning', 'inspired', 'ship', 'seemingly', 'lord', 'animal', 'queen', 'intense', 'count', 'seven', 'ground', 'flaws', 'nasty', 'alan', 'hidden', 'artistic', 'standards', 'rented', 'industry', 'teen', 'chinese', 'scientist', 'quick', 'adds', 'folks', 'faces', 'jean', 'ms', 'bond', 'afraid', 'seconds', 'affair', 'williams', 'detail', 'angry', 'ready', 'creature', 'design', 'professional', 'shocking', 'dirty', 'personality', 'picked', 'brian', 'uncle', 'food', 'length', 'games', 'jackson', 'collection', 'onto', 'asks', 'led', 'describe', 'location', 'area', 'filmmaker', 'information', 'fashion', 'don', 'martial', 'wearing', 'mouth', 'wars', 'teenage', 'artist', 'therefore', 'fox', 'states', 'wooden', 'redeeming', 'struggle', 'carry', 'castle', 'favourite', 'member', 'deliver', 'news', 'apartment', 'listen', 'lets', 'cross', 'allowed', 'deeply', 'criminal', 'compare', 'captain', 'willing', 'grace', 'witch', 'includes', 'clothes', 'helped', 'machine', 'moved', 'desperate', 'phone', 'wonderfully', 'intelligence', 'rip', 'danny', 'cgi', 'build', 'anymore', 'plane', 'epic', 'theatre', 'realized', 'heroes', 'comedic', 'sight', 'independent', 'jason', 'drugs', 'pop', 'began', 'loving', 'rarely', 'extra', 'energy', 'sky', 'stephen', 'introduced', 'ring', 'tears', 'taylor', 'ed', 'teacher', 'commentary', 'necessary', 'mental', 'religious', 'station', 'humans', 'dying', 'suicide', 'spoiler', 'douglas', 'trust', 'nightmare', 'superior', 'accident', 'powers', 'arts', 'apparent', 'engaging', 'physical', 'heaven', 'sleep', 'andy', 'pleasure', 'desire', 'continue', 'johnny', 'limited', 'anybody', 'provide', 'technical', 'treat', 'roll', 'allow', 'unusual', 'grand', 'suit', 'disaster', 'remarkable', 'devil', 'eddie', 'returns', 'vision', 'ford', 'russian', 'scared', 'cops', 'holds', 'wedding', 'brutal', 'intriguing', 'jump', 'tim', 'accept', 'bloody', 'fred', 'actions', 'paced', 'academy', 'suspect', 'wanting', 'reminds', 'soft', 'media', 'search', 'superman', 'hitler', 'twenty', 'surprising', 'finished', 'hated', 'keaton', 'bits', 'adam', 'asked', 'jr', 'faith', 'player', 'somebody', 'absurd', 'horse', 'unnecessary', 'kate', 'whatsoever', 'anywhere', 'pilot', 'skip', 'joan', 'prince', 'passion', 'memory', 'nicely', 'gold', 'england', 'constant', 'pacing', 'warning', 'sat', 'pre', 'x', 'legend', 'growing', 'process', 'watchable', 'ladies', 'torture', 'moon', 'cage', 'dangerous', 'clichés', 'jeff', 'ball', 'joy', 'mixed', 'exist', 'ill', 'met', 'explanation', 'gotten', 'normally', 'blame', 'higher', 'heroine', 'shakespeare', 'nick', 'deserve', 'lovers', 'dressed', 'quiet', 'lies', 'candy', 'instance', 'heads', 'unknown', 'toward', 'capture', 'creating', 'river', 'price', 'fights', 'drunk', 'ann', 'deserved', 'smile', 'jesus', 'radio', 'players', 'wide', 'european', 'japan', 'field', 'tarzan', 'dick', 'issue', 'accurate', 'plots', 'soap', 'fail', 'record', 'community', 'freddy', 'kevin', 'officer', 'guns', 'cars', 'vhs', 'knowledge', 'friendship', 'loose', 'eating', 'spanish', 'cable', 'according', 'humanity', 'saved', 'fu', 'starting', 'aware', 'responsible', 'nonsense', 'featuring', 'pulled', 'ice', 'judge', 'hopes', 'explained', 'author', 'broken', 'terribly', 'monsters', 'eat', 'fat', 'treated', 'understanding', 'keeping', 'mike', 'lewis', 'santa', 'partner', 'kinda', 'memories', 'floor', 'sucks', 'manage', 'lacking', 'bright', 'lynch', 'finest', 'numerous', 'whilst', 'originally', 'blonde', 'wind', 'empty', 'loss', 'driving', 'private', 'werewolf', 'cuts', 'screaming', 'saving', 'hits', 'delightful', 'dealing', 'bland', 'witty', 'villains', 'sign', 'realism', 'months', 'ordinary', 'noticed', 'discover', 'prove', 'washington', 'bigger', 'dated', 'below', 'forces', 'included', 'conflict', 'pretentious', 'whenever', 'sing', 'psychological', 'youth', 'discovered', 'regular', 'singer', 'opposite', 'gene', 'reviewers', 'jimmy', 'mine', 'international', 'kong', 'loses', 'kick', 'portray', 'scream', 'wood', 'morgan', 'simon', 'unfunny', 'streets', 'brown', 'talents', 'locations', 'bob', 'fate', 'morning', 'skills', 'bank', 'visit', 'received', 'opens', 'calls', 'miles', 'owner', 'breaks', 'gangster', 'golden', 'shop', 'humorous', 'perspective', 'concerned', 'traditional', 'captured', 'gags', 'grant', 'continues', 'naturally', 'magnificent', 'edited', 'current', 'deals', 'curious', 'sea', 'rubbish', 'satire', 'blind', 'genuine', 'advice', 'behavior', 'african', 'albert', 'sean', 'howard', 'connection', 'core', 'lucky', 'debut', 'ups', 'results', 'murdered', 'luck', 'shallow', 'cameo', 'jennifer', 'grown', 'anthony', 'mission', 'lesson', 'remembered', 'allows', 'mrs', 'buddy', 'stock', 'trek', 'gary', 'eric', 'na', 'occasionally', 'context', 'corny', 'national', 'harris', 'genuinely', 'learned', 'grew', 'ass', 'revealed', 'village', 'luke', 'decade', 'identity', 'overly', 'proved', 'visuals', 'program', 'ultimate', 'finale', 'versions', 'boat', 'steal', 'thomas', 'study', 'formula', 'president', 'standing', 'sheer', 'favor', 'existence', 'board', 'essentially', 'unexpected', 'unable', 'window', 'awkward', 'frankly', 'ages', 'develop', 'references', 'spectacular', 'suffering', 'survive', 'anna', 'psycho', 'reach', 'foot', 'reaction', 'mid', 'passed', 'travel', 'types', 'desert', 'vampires', 'logic', 'speed', 'visually', 'flesh', 'parody', 'segment', 'anne', 'gon', 'sudden', 'killers', 'leader', 'bear', 'dan', 'bet', 'site', 'robin', 'brilliantly', 'strength', 'discovers', 'delivered', 'efforts', 'crappy', 'marie', 'd', 'technology', 'creates', 'reviewer', 'round', 'lake', 'stereotypes', 'sake', 'frame', 'sheriff', 'broadway', 'welles', 'insane', 'rose', 'majority', 'kung', 'clean', 'gordon', 'driven', 'model', 'evening', 'emotionally', 'protagonist', 'executed', 'pair', 'relief', 'graphic', 'rob', 'drew', 'ran', 'awards', 'hill', 'families', 'utter', 'dimensional', 'freedom', 'painfully', 'sinatra', 'dreadful', 'meeting', 'relate', 'caused', 'foreign', 'native', 'sucked', 'gratuitous', 'failure', 'code', 'flashbacks', 'hunter', 'anime', 'commercial', 'built', 'test', 'aged', 'decision', 'practically', 'ancient', 'asian', 'fault', 'chosen', 'obsessed', 'pleasant', 'religion', 'wit', 'woody', 'vehicle', 'tape', 'range', 'feet', 'described', 'comparison', 'gory', 'chick', 'laughter', 'send', 'wayne', 'victoria', 'generation', 'fill', 'individual', 'breaking', 'sell', 'endless', 'barbara', 'hearing', 'treatment', 'center', 'combination', 'cash', 'parker', 'assume', 'underrated', 'portrays', 'victor', 'proper', 'attitude', 'bomb', 'produce', 'sports', 'asking', 'capable', 'portraying', 'choose', 'france', 'exploitation', 'steven', 'believes', 'halloween', 'seasons', 'largely', 'marry', 'stopped', 'rise', 'handsome', 'learns', 'warm', 'levels', 'product', 'chief', 'excited', 'theatrical', 'r', 'roy', 'rescue', 'grow', 'rules', 'joseph', 'fly', 'involves', 'appealing', 'entertained', 'unrealistic', 'dry', 'recall', 'dubbed', 'sympathetic', 'par', 'jackie', 'moore', 'cinderella', 'classics', 'nominated', 'canadian', 'contrived', 'angel', 'hearted', 'seat', 'safe', 'crowd', 'paper', 'winner', 'haunting', 'daniel', 'ruined', 'clue', 'extras', 'priest', 'alex', 'irritating', 'pity', 'fame', 'theaters', 'strongly', 'depressing', 'contrast', 'o', 'costs', 'claim', 'heck', 'evidence', 'destroy', 'uk', 'sequels', 'costume', 'football', 'hall', 'research', 'louis', 'disgusting', 'facts', 'appropriate', 'ryan', 'talks', 'teenager', 'scare', 'losing', 'anderson', 'cost', 'mask', 'nancy', 'cares', 'captures', 'bringing', 'naive', 'germany', 'matt', 'embarrassing', 'matters', 'united', 'tend', 'voices', 'training', 'saturday', 'lousy', 'universal', 'fits', 'thoughts', 'tiny', 'hunt', 'fool', 'correct', 'relatively', 'lower', 'hanging', 'haunted', 'mini', 'walks', 'convinced', 'patrick', 'steals', 'promise', 'bodies', 'horribly', 'cowboy', 'oliver', 'amateur', 'baseball', 'virtually', 'fairy', 'vote', 'spoil', 'contemporary', 'robot', 'insult', 'teenagers', 'market', 'walter', 'hide', 'excitement', 'inner', 'nevertheless', 'north', 'satisfying', 'depicted', 'till', 'holding', 'covered', 'creatures', 'europe', 'continuity', 'reporter', 'max', 'substance', 'viewed', 't', 'cutting', 'initial', 'handled', 'remain', 'texas', 'asleep', 'murphy', 'amateurish', 'lawyer', 'witness', 'provided', 'influence', 'skin', 'drag', 'pile', 'tedious', 'che', 'semi', 'offensive', 'factor', 'trilogy', 'circumstances', 'unfortunate', 'presents', 'surreal', 'professor', 'danger', 'hat', 'powell', 'designed', 'africa', 'f', 'closer', 'hitchcock', 'touches', 'australian', 'politics', 'unlikely', 'sharp', 'sisters', 'shocked', 'service', 'russell', 'source', 'fare', 'liners', 'structure', 'target', 'serves', 'refreshing', 'lesbian', 'category', 'promising', 'drop', 'angles', 'claims', 'supernatural', 'previously', 'section', 'rental', 'display', 'hopefully', 'roger', 'suffers', 'scale', 'plans', 'eight', 'weekend', 'brave', 'prime', 'ruin', 'repeated', 'chose', 'spy', 'latest', 'movement', 'related', 'faced', 'mainstream', 'cartoons', 'focused', 'accidentally', 'chan', 'caine', 'adventures', 'deaths', 'blow', 'propaganda', 'kim', 'accents', 'speaks', 'columbo', 'deadly', 'colors', 'surprises', 'nude', 'qualities', 'degree', 'harsh', 'realizes', 'speech', 'weeks', 'crash', 'welcome', 'experiences', 'convince', 'meanwhile', 'believed', 'erotic', 'print', 'draw', 'twisted', 'enemy', 'makeup', 'dogs', 'rain', 'invisible', 'wilson', 'friday', 'teens', 'guilty', 'struggling', 'routine', 'dozen', 'mistakes', 'princess', 'gritty', 'recognize', 'veteran', 'highlight', 'pacino', 'notch', 'magical', 'sympathy', 'uninteresting', 'clark', 'directly', 'terror', 'birth', 'irish', 'edward', 'peace', 'explains', 'walked', 'occasional', 'mgm', 'emma', 'committed', 'security', 'friendly', 'massive', 'ted', 'treasure', 'gas', 'legendary', 'mountain', 'kinds', 'combined', 'atrocious', 'abuse', 'narration', 'dollars', 'multiple', 'offered', 'appreciated', 'hong', 'paint', 'universe', 'driver', 'sword', 'prior', 'changing', 'false', 'suspenseful', 'whoever', 'aliens', 'path', 'metal', 'experienced', 'crying', 'performed', 'anger', 'frightening', 'featured', 'passing', 'nazi', 'remotely', 'variety', 'vietnam', 'reveal', 'regret', 'fictional', 'urban', 'downright', 'stolen', 'sorts', 'execution', 'express', 'ai', 'surface', 'pitt', 'forgettable', 'darkness', 'spends', 'lonely', 'figured', 'matrix', 'exact', 'hired', 'aka', 'figures', 'trapped', 'forest', 'abandoned', 'insight', 'placed', 'theory', 'network', 'reputation', 'rings', 'melodrama', 'conversation', 'wear', 'crude', 'bothered', 'court', 'blah', 'afternoon', 'demons', 'beach', 'enter', 'china', 'blown', 'account', 'forth', 'paying', 'department', 'required', 'pulls', 'grim', 'donald', 'san', 'reveals', 'johnson', 'starred', 'listening', 'cultural', 'proud', 'lugosi', 'granted', 'buying', 'rule', 'jobs', 'dragon', 'rights', 'bourne', 'statement', 'focuses', 'lifetime', 'stays', 'significant', 'foster', 'dude', 'stayed', 'sarah', 'scares', 'titanic', 'un', 'california', 'effectively', 'rachel', 'sunday', 'von', 'alice', 'lisa', 'delivery', 'mexico', 'mexican', 'mere', 'heavily', 'handed', 'amazed', 'idiot', 'imagery', 'jungle', 'rolling', 'julia', 'indie', 'mature', 'everywhere', 'quest', 'grave', 'unconvincing', 'freeman', 'sir', 'ghosts', 'worthwhile', 'spite', 'teeth', 'dean', 'necessarily', 'blockbuster', 'sun', 'rough', 'angle', 'tight', 'bus', 'cruel', 'beast', 'sensitive', 'ned', 'hip', 'lights', 'faithful', 'gross', 'clichéd', 'fabulous', 'device', 'desperately', 'christ', 'favorites', 'belief', 'ron', 'hoffman', 'jon', 'scenario', 'campy', 'interview', 'forgot', 'bound', 'beloved', 'susan', 'sleeping', 'skill', 'minds', 'demon', 'revolution', 'junk', 'table', 'facial', 'views', 'destroyed', 'dress', 'bore', 'intellectual', 'shadow', 'closing', 'nation', 'suffer', 'hardy', 'artists', 'reminiscent', 'subtitles', 'renting', 'stereotypical', 'con', 'understood', 'sounded', 'position', 'studios', 'breath', 'musicals', 'slapstick', 'deeper', 'critical', 'drinking', 'criminals', 'wing', 'raw', 'helping', 'league', 'seek', 'branagh', 'flight', 'murderer', 'warner', 'flashback', 'learning', 'expert', 'prefer', 'greater', 'happiness', 'productions', 'halfway', 'aunt', 'larry', 'achieve', 'decades', 'pregnant', 'format', 'complicated', 'calling', 'extraordinary', 'notorious', 'amazingly', 'inept', 'quirky', 'prepared', 'truck', 'settings', 'punch', 'ignore', 'cell', 'depiction', 'alright', 'throwing', 'u', 'fourth', 'buck', 'bbc', 'status', 'convey', 'racist', 'julie', 'daughters', 'india', 'mildly', 'wave', 'suck', 'dennis', 'initially', 'description', 'examples', 'screening', 'underground', 'encounter', 'raised', 'picks', 'arms', 'spoof', 'entertain', 'maria', 'chilling', 'toy', 'disbelief', 'criticism', 'ha', 'expression', 'titles', 'tree', 'base', 'summary', 'purely', 'via', 'midnight', 'kiss', 'answers', 'basis', 'funnier', 'comical', 'honor', 'shut', 'touched', 'throws', 'join', 'crafted', 'burns', 'serve', 'thankfully', 'spoken', 'jail', 'dollar', 'rogers', 'sidney', 'choices', 'task', 'elizabeth', 'locked', 'regarding', 'bollywood', 'introduction', 'headed', 'pet', 'brad', 'sandler', 'leslie', 'fallen', 'm', 'carrying', 'everyday', 'storytelling', 'protect', 'praise', 'caring', 'cabin', 'east', 'blair', 'brooks', 'succeeds', 'extent', 'lesser', 'environment', 'handle', 'provoking', 'sitcom', 'originality', 'daily', 'regard', 'reference', 'lane', 'warned', 'determined', 'weapons', 'ludicrous', 'wears', 'mouse', 'charge', 'lion', 'causes', 'timing', 'challenge', 'workers', 'trick', 'carried', 'term', 'inspiration', 'bitter', 'tales', 'southern', 'carries', 'lazy', 'raise', 'turkey', 'lincoln', 'established', 'mass', 'ironic', 'clips', 'maker', 'sleazy', 'jewish', 'guard', 'experiment', 'mirror', 'burt', 'sinister', 'attempting', 'miller', 'embarrassed', 'sold', 'remote', 'replaced', 'laura', 'breathtaking', 'cooper', 'essential', 'gruesome', 'minded', 'enjoying', 'notable', 'graphics', 'bat', 'hood', 'claire', 'navy', 'authentic', 'obsession', 'jumps', 'stanley', 'interpretation', 'michelle', 'reed', 'goofy', 'jessica', 'obnoxious', 'bettie', 'lie', 'novels', 'arrives', 'mentally', 'tradition', 'balance', 'amongst', 'stomach', 'wins', 'adding', 'properly', 'cases', 'c', 'sutherland', 'westerns', 'rival', 'interviews', 'seeking', 'exists', 'comedian', 'carpenter', 'hole', 'escapes', 'risk', 'holmes', 'tracy', 'remind', 'legs', 'successfully', 'upper', 'shape', 'stops', 'strangely', 'manager', 'served', 'stanwyck', 'frequently', 'packed', 'retarded', 'cook', 'marvelous', 'flow', 'mansion', 'topic', 'attacked', 'n', 'contain', 'laid', 'sum', 'inspector', 'flawed', 'busy', 'patient', 'nowadays', 'ashamed', 'intensity', 'shower', 'stylish', 'bridge', 'mob', 'wanna', 'drives', 'baker', 'horrific', 'intentions', 'cynical', 'grey', 'confusion', 'mindless', 'albeit', 'pitch', 'revolves', 'refuses', 'angels', 'riding', 'opened', 'philip', 'sullivan', 'jake', 'screenwriter', 'torn', 'wealthy', 'warn', 'overcome', 'upset', 'sides', 'tongue', 'chair', 'suspects', 'usa', 'attacks', 'stranger', 'fish', 'existent', 'lucy', 'bo', 'sin', 'struggles', 'text', 'madness', 'tense', 'thief', 'ratings', 'greatly', 'expressions', 'poignant', 'presentation', 'personalities', 'internet', 'fbi', 'vacation', 'wishes', 'elvis', 'thrilling', 'medical', 'hence', 'alas', 'dinner', 'delight', 'spin', 'bette', 'wwii', 'adapted', 'hundreds', 'glass', 'jay', 'hills', 'controversial', 'brando', 'per', 'suffered', 'nine', 'contact', 'broke', 'burton', 'thousands', 'perform', 'bugs', 'storm', 'pool', 'countries', 'arm', 'noble', 'wasting', 'rochester', 'catholic', 'widmark', 'stupidity', 'dubbing', 'hundred', 'technically', 'lessons', 'guessing', 'sings', 'happily', 'separate', 'tour', 'glimpse', 'advantage', 'credibility', 'pride', 'streisand', 'racism', 'physically', 'courage', 'trite', 'spielberg', 'hint', 'performers', 'franchise', 'card', 'neat', 'cheese', 'proof', 'tied', 'plastic', 'sexuality', 'gripping', 'dislike', 'flash', 'andrews', 'needless', 'corner', 'dentist', 'innocence', 'uncomfortable', 'trial', 'atmospheric', 'chaplin', 'snow', 'italy', 'seagal', 'nelson', 'thrillers', 'crisis', 'searching', 'letting', 'protagonists', 'credible', 'infamous', 'ensemble', 'curse', 'drink', 'shines', 'derek', 'assistant', 'matthau', 'host', 'exceptional', 'millions', 'sentimental', 'suggests', 'portrait', 'steps', 'cousin', 'helen', 'reunion', 'holiday', 'dancer', 'lovable', 'troubled', 'entry', 'oddly', 'lying', 'andrew', 'whereas', 'consists', 'britain', 'idiotic', 'weapon', 'bag', 'virgin', 'saves', 'nose', 'stealing', 'stretch', 'thousand', 'hang', 'technique', 'carter', 'aired', 'shorts', 'split', 'kurt', 'concert', 'hiding', 'sons', 'chases', 'pack', 'arnold', 'develops', 'flynn', 'karloff', 'oscars', 'gain', 'worlds', 'horses', 'larger', 'colorful', 'chasing', 'connected', 'guts', 'enjoyment', 'miscast', 'scripts', 'accepted', 'tune', 'month', 'thirty', 'meaningful', 'hoped', 'ta', 'noted', 'oil', 'fortune', 'worry', 'strip', 'vincent', 'cameos', 'succeed', 'belongs', 'eerie', 'annoyed', 'ultra', 'closely', 'trade', 'burning', 'spots', 'dig', 'equal', 'chuck', 'shoots', 'irony', 'elvira', 'attraction', 'unforgettable', 'object', 'guilt', 'appearing', 'civil', 'dialogs', 'cube', 'hamlet', 'knife', 'ralph', 'glover', 'factory', 'walken', 'homeless', 'zone', 'hunting', 'repeat', 'concerns', 'pro', 'roberts', 'imaginative', 'pat', 'neck', 'alike', 'solve', 'wake', 'shark', 'sends', 'lucas', 'silver', 'complaint', 'flaw', 'achieved', 'quote', 'letter', 'redemption', 'neighbor', 'dragged', 'fortunately', 'ad', 'beating', 'multi', 'ripped', 'bears', 'encounters', 'endearing', 'appearances', 'lloyd', 'curtis', 'scientists', 'fashioned', 'ourselves', 'terrifying', 'charisma', 'tribute', 'nonetheless', 'catherine', 'neighborhood', 'dealt', 'checking', 'hanks', 'hudson', 'library', 'believing', 'knock', 'pie', 'profound', 'striking', 'expensive', 'glory', 'competent', 'massacre', 'boll', 'teach', 'rush', 'essence', 'hitting', 'tear', 'hooked', 'crimes', 'slight', 'gag', 'basement', 'dare', 'fitting', 'condition', 'spell', 'battles', 'segments', 'stan', 'destruction', 'stunt', 'eastwood', 'weight', 'specific', 'pointed', 'dear', 'canada', 'strikes', 'covers', ':)', 'countless', 'magazine', 'dorothy', 'carol', 'colour', 'winter', 'bobby', 'sexually', 'inspiring', 'charismatic', 'denzel', 'attempted', 'surrounded', 'bush', 'rocks', 'secretary', 'virus', 'incoherent', 'rushed', 'importance', 'reactions', 'spending', 'surrounding', 'perfection', 'bride', 'eyed', 'stood', 'guest', 'eva', 'doc', 'corrupt', 'unintentionally', 'videos', 'brand', 'loser', 'grows', 'scooby', 'dramas', 'gothic', 'smoking', 'health', 'stronger', 'bible', 'painting', 'spike', 'chances', 'enters', 'horrendous', 'goal', 'homage', 'stiff', 'intention', 'stunts', 'attached', 'plague', 'stated', 'revelation', 'increasingly', 'hype', 'associated', 'miike', 'barry', 'tons', 'messages', 'thumbs', 'dropped', 'medium', 'gift', 'easier', 'noise', 'dawn', 'shall', 'jeremy', 'st', 'university', 'walls', 'heston', 'performing', 'godfather', 'poverty', 'requires', 'carefully', 'boredom', 'mafia', 'kicks', 'fired', 'cusack', 'forgive', 'birthday', 'elsewhere', 'duke', 'tricks', 'jerk', 'iii', 'cardboard', 'selling', 'relevant', 'exercise', 'row', 'dawson', 'identify', 'briefly', 'sophisticated', 'killings', 'fest', 'korean', 'drags', 'carrey', 'reynolds', 'contract', 'strictly', 'sally', 'ritter', 'nuclear', 'kane', 'strike', 'tea', 'hearts', 'represents', 'allowing', 'cruise', 'ian', 'worker', 'huh', 'heat', 'vague', 'shining', 'silence', 'partly', 'cox', 'spirited', 'creation', 'techniques', 'kidnapped', 'importantly', 'instantly', 'struck', 'comics', 'toilet', 'handful', 'pushed', 'commit', 'nights', 'ego', 'hire', 'lily', 'lab', 'bakshi', 'mild', 'wondered', 'talked', 'continued', 'inevitable', 'fifteen', 'resolution', 'overlooked', 'smooth', 'savage', 'le', 'disagree', 'union', 'estate', 'digital', 'meat', 'tremendous', 'depression', 'cole', 'astaire', 'evident', 'fisher', 'typically', 'acceptable', 'jumping', 'frustrated', 'occurs', 'realise', 'monkey', 'photographed', 'pleased', 'presumably', 'persona', 'buried', 'grandmother', 'norman', 'jesse', 'wonders', 'aforementioned', 'boxing', 'burn', 'citizen', 'guide', 'string', 'flawless', 'admire', 'spiritual', 'menacing', 'twin', 'superbly', 'fears', 'beaten', 'doors', 'press', 'pleasantly', 'competition', 'satan', 'raped', 'breasts', 'ward', 'australia', 'ho', 'shy', 'rap', 'accused', 'nurse', 'fatal', 'arrested', 'worthless', 'splendid', 'distant', 'admittedly', 'kubrick', 'g', 'relative', 'prevent', 'beings', 'returning', 'listed', 'projects', 'border', 'investigation', 'creators', 'los', 'attracted', 'push', 'ambitious', 'cia', 'executive', 'conspiracy', 'samurai', 'planning', 'size', 'thrills', 'wreck', 'opposed', 'melodramatic', 'slap', 'cup', 'threatening', 'morality', 'mile', 'curiosity', 'spring', 'abc', 'davies', 'outrageous', 'useless', 'bullets', 'critic', 'goldberg', 'root', 'narrator', 'brosnan', 'corpse', 'blob', 'characterization', 'jamie', 'pulling', 'brilliance', 'revealing', 'ticket', 'precious', 'subplot', 'directorial', 'mitchell', 'luckily', 'titled', 'appalling', 'francisco', 'clues', 'doo', 'modesty', 'uninspired', 'laurel', 'intrigued', 'repetitive', 'sole', 'hatred', 'achievement', 'beer', 'suits', 'trap', 'installment', 'lou', 'documentaries', 'spooky', 'joey', 'spoiled', 'chain', 'bucks', 'duo', 'watches', 'jet', 'lacked', 'insulting', 'subsequent', 'accomplished', 'motivation', 'piano', 'individuals', 'slightest', 'generous', 'futuristic', 'remaining', 'horrors', 'picking', 'logical', 'convoluted', 'dire', 'wells', 'repeatedly', 'elderly', 'notably', 'blows', 'fancy', 'warrior', 'liberal', 'e', 'drunken', 'mann', 'temple', 'psychiatrist', 'felix', 'jealous', 'alexander', 'turner', 'response', 'shoes', 'souls', 'territory', 'reasonably', 'psychotic', 'minimal', 'cared', 'wes', 'notes', 'draws', 'cameron', 'ruth', 'forbidden', 'manhattan', 'failing', 'explicit', 'providing', 'rid', 'soviet', 'aimed', 'exaggerated', 'farce', 'tall', 'butt', 'mate', 'blank', 'scientific', 'photographer', 'wicked', 'sacrifice', 'ken', 'cagney', 'gray', 'fay', 'mel', 'outcome', 'restaurant', 'marks', 'poster', 'cried', 'diamond', 'timeless', 'afterwards', 'throat', 'screams', 'explore', 'disease', 'pushing', 'captivating', 'perry', 'highlights', 'reduced', 'bleak', 'conceived', 'distance', 'indians', 'superhero', 'neil', 'wolf', 'falk', 'editor', 'ignored', 'reasonable', 'parent', 'obscure', 'loosely', 'exposed', 'darker', 'connect', 'gentle', 'rex', 'tortured', 'shadows', 'intent', 'empire', 'ellen', 'elaborate', 'load', 'timothy', 'misses', 'miserably', 'craven', 'bug', 'giallo', 'reached', 'stole', 'broad', 'improved', 'gradually', 'unbelievably', 'whale', 'worried', 'slave', 'definite', 'freak', 'childish', 'sloppy', 'threat', 'craig', 'sticks', 'discussion', 'extended', 'argument', 'smoke', 'kitchen', 'dracula', 'dancers', 'absence', 'shortly', 'emily', 'heroic', 'folk', 'verhoeven', 'eyre', 'fx', 'tunes', 'scripted', 'birds', 'fever', 'vicious', 'builds', 'brazil', 'daring', 'romero', 'movements', 'progress', 'tap', 'prom', 'danes', 'stiller', 'horrid', 'sunshine', 'complain', 'blend', 'drawing', 'ireland', 'twelve', 'affected', 'discovery', 'dave', 'imagined', 'purple', 'displays', 'ranks', 'bare', 'concerning', 'broadcast', 'kapoor', 'returned', 'resembles', 'hysterical', 'wannabe', 'cheek', 'nazis', 'farm', 'walker', 'drivel', 'eve', 'warren', 'idiots', 'contained', 'commercials', 'overrated', 'newspaper', 'receive', 'harder', 'translation', 'bone', 'web', 'matthew', 'threw', 'pretend', 'thick', 'regardless', 'shirt', 'wallace', 'overdone', 'consequences', 'ought', 'trio', 'styles', 'arrive', 'incident', 'audio', 'swedish', 'landscape', 'carrie', 'ridiculously', 'kirk', 'paulie', 'glenn', 'gandhi', 'triumph', 'aging', 'burned', 'enjoys', 'currently', 'bird', 'swear', 'hammer', 'dynamic', 'investigate', 'demands', 'bite', 'argue', 'karen', 'involvement', 'mildred', 'hamilton', 'annie', 'apes', 'leg', 'escaped', 'popcorn', 'genres', 'engaged', 'panic', 'kudos', 'rage', 'dignity', 'lawrence', 'sadistic', 'pulp', 'cliff', 'selfish', 'rural', 'comfortable', 'yesterday', 'composed', 'adequate', 'tommy', 'occur', 'neo', 'fulci', 'margaret', 'conversations', 'website', 'fighter', 'mountains', 'suited', 'journalist', 'foul', 'greek', 'beatty', 'vivid', 'thrill', 'merit', 'machines', 'warming', 'conventional', 'differences', 'sadness', 'staying', 'tame', 'versus', 'murderous', 'bell', 'disc', 'beats', 'kenneth', 'centered', 'holy', 'buddies', 'recognized', 'devoted', 'superficial', 'hollow', 'population', 'leonard', 'pseudo', 'block', 'symbolism', 'nicholson', 'donna', 'secrets', 'existed', 'detailed', 'craft', 'contrary', 'orders', 'areas', 'innovative', 'combat', 'offering', 'altman', 'thugs', 'garden', 'juvenile', 'cameras', 'explosion', 'lit', 'choreography', 'ironically', 'rambo', 'madonna', 'robots', 'todd', 'bathroom', 'possibility', 'intrigue', 'wealth', 'occurred', 'causing', 'dialogues', 'producing', 'staff', 'uneven', 'lips', 'snake', 'carl', 'grab', 'proceedings', 'kennedy', 'lust', 'explaining', 'deliberately', 'bin', 'seventies', 'voight', 'official', 'pays', 'crack', 'eccentric', 'waters', 'defeat', 'overwhelming', 'hugh', 'duty', 'banned', 'catches', 'primary', 'ingredients', 'highest', 'staged', 'dinosaurs', 'blowing', 'unpleasant', 'signs', 'relies', 'discuss', 'clothing', 'nearby', 'removed', 'rat', 'sport', 'jazz', 'dating', 'terry', 'generic', 'masters', 'react', 'groups', 'officers', 'financial', 'nightmares', 'resemblance', 'coherent', 'models', 'cringe', 'bang', 'focusing', 'odds', 'ape', 'meaningless', 'li', 'travels', 'unintentional', 'brady', 'politically', 'brains', 'influenced', 'toys', 'mistaken', 'implausible', 'cats', 'yellow', 'punk', 'bullet', 'unbearable', 'edie', 'damage', 'palma', 'disturbed', 'olivier', 'mummy', 'smaller', 'portion', 'explored', 'settle', 'doomed', 'daddy', 'exotic', 'liking', 'antics', 'chaos', 'hates', 'outer', 'flies', 'shine', 'consistently', 'bedroom', 'glorious', 'hank', 'clint', 'clown', 'abilities', 'houses', 'possessed', 'mill', 'subjects', 'coffee', 'spirits', 'roman', 'clumsy', 'maggie', 'ginger', 'florida', 'passes', 'cuba', 'blake', 'lemmon', 'flop', 'gadget', 'jeffrey', 'classes', 'primarily', 'survival', 'communist', 'afford', 'recorded', 'philosophy', 'mysteries', 'altogether', 'surviving', 'scheme', 'remarkably', 'hbo', 'et', 'brooklyn', 'mixture', 'lifestyle', 'enormous', 'errors', 'devoid', 'dozens', 'undoubtedly', 'sidekick', 'backdrop', 'widow', 'props', 'harvey', 'blatant', 'hart', 'fonda', 'directs', 'reaches', 'impress', 'tie', 'endings', 'destiny', 'represent', 'fond', 'developing', 'winds', 'hal', 'terrorist', 'describes', 'linda', 'cheating', 'beneath', 'cary', 'colonel', 'dutch', 'bold', 'aid', 'principal', 'rank', 'prostitute', 'urge', 'instant', 'explosions', 'ease', 'homer', 'rocket', 'streep', 'mickey', 'decisions', 'unwatchable', 'doll', 'shelf', 'grinch', 'hints', 'forty', 'ocean', 'traveling', 'planned', 'distracting', 'performer', 'stellar', 'disjointed', 'montage', 'revolutionary', 'atlantis', 'painted', 'pan', 'rebel', 'trees', 'spare', 'relations', 'ideal', 'ah', 'drops', 'hardcore', 'blew', 'notion', 'advance', 'celebrity', 'eighties', 'surfing', 'hideous', 'circle', 'frustration', 'niro', 'melting', 'senseless', 'topless', 'wrestling', 'crush', 'benefit', 'desperation', 'ruthless', 'user', 'april', 'goodness', 'buff', 'loads', 'companion', 'dances', 'emphasis', 'vast', 'march', 'earned', 'godzilla', 'macy', 'satisfied', 'trailers', 'garbo', 'careers', 'offended', 'hartley', 'awake', 'winters', 'fetched', 'survivors', 'motives', 'dedicated', 'arrogant', 'measure', 'transformation', 'countryside', 'shaw', 'claimed', 'philosophical', 'practice', 'matches', 'sentence', 'command', 'forms', 'wives', 'hook', 'commented', 'loyal', 'link', 'weakest', 'adorable', 'lyrics', 'outfit', 'tracks', 'ties', 'pig', 'closet', 'guessed', 'introduces', 'lasted', 'authority', 'shirley', 'passionate', 'cure', 'simplistic', 'specifically', 'illogical', 'judy', 'holly', 'uwe', 'divorce', 'tender', 'seed', 'backgrounds', 'fix', 'justify', 'awe', 'disappeared', 'stress', 'severe', 'miserable', 'saga', 'corruption', 'interaction', 'involve', 'subtlety', 'cave', 'khan', 'hung', 'dinosaur', 'method', 'occasion', 'soccer', 'cards', 'rick', 'racial', 'immensely', 'funeral', 'griffith', 'amy', 'depressed', 'chased', 'trashy', 'coach', 'polanski', 'splatter', 'unfolds', 'displayed', 'succeeded', 'judging', 'rooms', 'riveting', 'treats', 'buffs', 'endure', 'trained', 'helicopter', 'swimming', 'thoughtful', 'represented', 'formulaic', 'thru', 'celluloid', 'tad', 'adams', 'isolated', 'kidding', 'solely', 'honesty', 'chorus', 'nail', 'solo', 'disappear', 'angeles', 'babe', 'tag', 'stereotype', 'cinematographer', 'kicked', 'franco', 'switch', 'snl', 'report', 'aids', 'pot', 'menace', 'jonathan', 'enemies', 'realizing', 'lol', 'avoided', 'similarities', 'corporate', 'nervous', 'emperor', 'facing', 'elephant', 'bull', 'blond', 'quotes', 'purchase', 'amanda', 'education', 'wore', 'inventive', 'faster', 'blues', 'anyways', 'consistent', 'limits', 'finger', 'agrees', 'sounding', 'oz', 'considerable', 'choreographed', 'porno', 'sellers', 'chess', 'enterprise', 'voiced', 'hopper', 'sandra', 'moody', 'del', 'plant', 'poetic', 'shake', 'hurts', 'improve', 'confidence', 'sits', 'photos', 'defend', 'wet', 'grasp', 'armed', 'mario', 'taught', 'safety', 'unhappy', 'wizard', 'orson', 'possibilities', 'hop', 'waited', 'promised', 'cg', 'blade', 'diane', 'dalton', 'embarrassment', 'charlotte', 'lumet', 'ollie', 'monkeys', 'staring', 'namely', 'preview', 'dolls', 'horrifying', 'comparing', 'leo', 'diana', 'behave', 'wished', 'rotten', 'cliche', 'dub', 'delivering', 'mayor', 'humble', 'eager', 'ears', 'prize', 'grandfather', 'pretending', 'relation', 'synopsis', 'ruby', 'vegas', 'destroying', 'carradine', 'abysmal', 'scarecrow', 'myers', 'christy', 'lena', 'timon', 'macarthur', 'stinker', 'buildings', 'reaching', 'valuable', 'lay', 'reads', 'bonus', 'combine', 'elegant', 'iron', 'suitable', 'kingdom', 'similarly', 'sappy', 'species', 'concern', 'fooled', 'constructed', 'tonight', 'simpson', 'global', 'kyle', 'maintain', 'ignorant', 'paltrow', 'waves', 'museum', 'campbell', 'scottish', 'inane', 'montana', 'peoples', 'dixon', 'stooges', 'affect', 'unsettling', 'lately', 'useful', 'engage', 'writes', 'faults', 'steel', 'reflect', 'transfer', 'nostalgic', 'scope', 'closest', 'gangsters', 'cleverly', 'virginia', 'wound', 'laws', 'bands', 'conflicts', 'motivations', 'latin', 'jumped', 'conservative', 'bergman', 'artificial', 'couples', 'secretly', 'climactic', 'mall', 'slick', 'lowest', 'shelley', 'civilization', 'blunt', 'letters', 'button', 'wendy', 'stinks', 'wrapped', 'hyde', 'exploration', 'spoke', 'centers', 'messed', 'catching', 'access', 'yelling', 'alcoholic', 'raising', 'cd', 'remarks', 'willis', 'disappoint', 'nomination', 'miracle', 'potentially', 'christians', 'scores', 'germans', 'pearl', 'understandable', 'questionable', 'square', 'robinson', 'berlin', 'bath', 'ballet', 'airport', 'airplane', 'connery', 'taxi', 'vice', 'robbery', 'richardson', 'morris', 'depicts', 'greedy', 'edgar', 'abusive', 'survived', 'furthermore', 'boom', 'purchased', 'demand', 'plight', 'vulnerable', 'rubber', 'bela', 'advanced', 'june', 'spread', 'joined', 'alongside', 'jaw', 'vs', 'amounts', 'advise', 'cake', 'persons', 'lengthy', 'september', 'closed', 'iran', 'intentionally', 'lundgren', 'rendition', 'tiresome', 'agents', 'jenny', 'crocodile', 'wandering', 'richards', 'pokemon', 'domino', 'frankenstein', 'understated', 'guarantee', 'demented', 'arrived', 'resort', 'transition', 'rising', 'inferior', 'floating', 'dickens', 'vaguely', 'homosexual', 'newly', 'sue', 'beliefs', 'troops', 'illegal', 'visits', 'arguably', 'stilted', 'kicking', 'chest', 'roth', 'bottle', 'operation', 'prisoners', 'construction', 'brutally', 'convincingly', 'misery', 'designs', 'poetry', 'advertising', 'intimate', 'francis', 'showcase', 'acid', 'creator', 'junior', 'balls', 'chicago', 'scrooge', 'downhill', 'gundam', 'eaten', 'witches', 'hunters', 'frankie', 'spock', 'stevens', 'akshay', 'paranoia', 'careful', 'online', 'matched', 'gender', 'agreed', 'nostalgia', 'parallel', 'alternate', 'recognition', 'dust', 'proceeds', 'bay', 'fascinated', 'catchy', 'mars', 'cheated', 'wisdom', 'twilight', 'attitudes', 'ya', 'simplicity', 'copies', 'classical', 'neighbors', 'austen', 'dreary', 'edition', 'drake', 'marty', 'damon', 'bacall', 'biko', 'molly', 'gabriel', 'boot', 'opinions', 'relatives', 'capital', 'worn', 'challenging', 'capturing', 'literature', 'terrorists', 'cities', 'legal', 'mail', 'equivalent', 'widely', 'defined', 'subplots', 'sirk', 'satisfy', 'pal', 'prisoner', 'lively', 'counter', 'pops', 'ethan', 'complexity', 'chicks', 'compelled', 'frequent', 'owen', 'gerard', 'lone', 'manipulative', 'inappropriate', 'exceptionally', 'photo', 'wrap', 'doom', 'sink', 'tends', 'assault', 'accompanied', 'tiger', 'smiling', 'mighty', 'attorney', 'royal', 'overlook', 'nuts', 'louise', 'illness', 'hilariously', 'suspicious', 'invasion', 'feed', 'justin', 'signed', 'restored', 'pants', 'losers', 'experiments', 'ridden', 'ashley', 'property', 'mundane', 'unit', 'ninja', 'barrymore', 'grayson', 'desired', 'seeks', 'phantom', 'crucial', 'solution', 'mankind', 'enthusiasm', 'creep', 'serving', 'resident', 'reel', 'belong', 'mistress', 'patients', 'calm', 'parties', 'betty', 'witnesses', 'willie', 'jaws', 'pursuit', 'incomprehensible', 'chapter', 'bumbling', 'wishing', 'recording', 'prequel', 'landscapes', 'muslim', 'domestic', 'nicholas', 'chooses', 'dressing', 'nyc', 'basketball', 'greed', 'opportunities', 'mtv', 'tomatoes', 'resources', 'slaughter', 'incompetent', 'plausible', 'rabbit', 'farrell', 'reid', 'iraq', 'survivor', 'waitress', 'excessive', 'suspend', 'historically', 'ruins', 'sincere', 'performs', 'tooth', 'arrival', 'masterful', 'kay', 'vengeance', 'progresses', 'creativity', 'stallone', 'der', 'ear', 'likewise', 'gifted', 'keith', 'hello', 'feminist', 'appreciation', 'carell', 'polished', 'spider', 'earl', 'watson', 'sneak', 'mechanical', 'rats', 'methods', 'generated', 'awfully', 'belushi', 'borrowed', 'elm', 'icon', 'rocky', 'descent', 'cassidy', 'randy', 'cannibal', 'petty', 'poem', 'dropping', 'randomly', 'responsibility', 'channels', 'respected', 'distinct', 'promises', 'wacky', 'graham', 'overacting', 'educational', 'stretched', 'rukh', 'introduce', 'heights', 'alcohol', 'viewings', 'walsh', 'raymond', 'monk', 'ham', 'simmons', 'defense', 'attend', 'pit', 'witnessed', 'resist', 'eastern', 'spain', 'alert', 'masterpieces', 'julian', 'assigned', 'visible', 'maid', 'rangers', 'nerd', 'mentions', 'bargain', 'household', 'josh', 'map', 'instinct', 'nephew', 'psychic', 'rolled', 'marion', 'damme', 'antwone', 'teaching', 'despair', 'underlying', 'fiancé', 'biography', 'wholly', 'shed', 'warmth', 'unaware', 'moronic', 'inducing', 'empathy', 'improvement', 'deceased', 'fury', 'orange', 'specially', 'troubles', 'rave', 'hippie', 'quit', 'testament', 'wounded', 'businessman', 'fed', 'doubts', 'receives', 'buffalo', 'minimum', 'butler', 'thompson', 'assumed', 'marketing', 'mentioning', 'pin', 'clip', 'laughably', 'novak', 'eugene', 'analysis', 'edgy', 'tribe', 'whoopi', 'mclaglen', 'omen', 'israel', 'miyazaki', 'stunned', 'loaded', 'contest', 'album', 'tarantino', 'resulting', 'expressed', 'palace', 'activities', 'retired', 'inevitably', 'imitation', 'depicting', 'unseen', 'popularity', 'tech', 'caliber', 'pamela', 'crawford', 'exposure', 'othello', 'firm', 'strangers', 'definition', 'trademark', 'scotland', 'pink', 'unreal', 'landing', 'swim', 'nonsensical', 'sixties', 'ramones', 'punishment', 'greg', 'furious', 'championship', 'sabrina', 'alison', 'amitabh', 'soderbergh', 'showdown', 'merits', 'confess', 'composer', 'pressure', 'assassin', 'uplifting', 'tank', 'fuller', 'distribution', 'quinn', 'peak', 'accuracy', 'equipment', 'stale', 'resemble', 'grabs', 'package', 'maniac', 'shaky', 'absent', 'austin', 'phony', 'kurosawa', 'rooney', 'fought', 'phil', 'checked', 'brenda', 'kissing', 'invented', 'glasses', 'orleans', 'dolph', 'irrelevant', 'peters', 'valley', 'crystal', 'expedition', 'nathan', 'abraham', 'darren', 'unoriginal', 'sid', 'pierce', 'kumar', 'ustinov', 'pete', 'subjected', 'reflection', 'astonishing', 'gentleman', 'metaphor', 'masses', 'supported', 'loyalty', 'significance', 'legacy', 'travesty', 'inability', 'immediate', 'ambiguous', 'woo', 'warriors', 'disliked', 'interests', 'harm', 'experimental', 'crazed', 'generations', 'ships', 'dimension', 'comfort', 'andre', 'suggested', 'meryl', 'hawke', 'suffice', 'nicole', 'femme', 'cracking', 'trail', 'alfred', 'confrontation', 'exchange', 'twins', 'compassion', 'dee', 'wretched', 'integrity', 'rita', 'chicken', 'angela', 'spacey', 'deaf', 'carla', 'bud', 'sissy', 'rates', 'coast', 'hopeless', 'wang', 'brutality', 'alternative', 'stumbled', 'unexpectedly', 'examination', 'skull', 'puppet', 'ross', 'preston', 'newman', 'frightened', 'fascination', 'simultaneously', 'milk', 'rises', 'christianity', 'remained', 'reader', 'fields', 'billed', 'vulgar', 'adaptations', 'addicted', 'alec', 'unpredictable', 'sopranos', 'deniro', 'marshall', 'patience', 'j', 'indulgent', 'mm', 'antonioni', 'objective', 'joel', 'gather', 'yard', 'baldwin', 'deranged', 'robbins', 'abused', 'files', 'raises', 'basinger', 'unfair', 'stuart', 'ordered', 'conditions', 'refused', 'masks', 'females', 'purposes', 'stargate', 'tacky', 'infected', 'lackluster', 'tastes', 'roots', 'blast', 'cream', 'spark', 'tube', 'downey', 'hears', 'seldom', 'premiere', 'hungry', 'slice', 'prey', 'buster', 'wakes', 'primitive', 'grief', 'lock', 'technicolor', 'musician', 'sugar', 'russia', 'fishing', 'bunny', 'claus', 'companies', 'directions', 'passable', 'leon', 'h', 'filling', 'require', 'palance', 'murray', 'raines', 'teachers', 'cannon', 'discovering', 'replace', 'husbands', 'teaches', 'parade', 'leigh', 'dana', 'lands', 'phrase', 'difficulties', 'stark', 'joins', 'roommate', 'flair', 'awhile', 'prepare', 'electric', 'amused', 'knocked', 'dysfunctional', 'wildly', 'paradise', 'paramount', 'visiting', 'precisely', 'sums', 'framed', 'credited', 'fifty', 'literary', 'sung', 'desires', 'frustrating', 'interactions', 'favour', 'victory', 'da', 'dreck', 'sunny', 'rifle', 'vance', 'comedians', 'quietly', 'adolescent', 'exposition', 'marc', 'kolchak', 'muddled', 'posey', 'zizek', 'springer', 'acclaimed', 'adopted', 'straightforward', 'foxx', 'invites', 'hopkins', 'knight', 'fog', 'provocative', 'dresses', 'industrial', 'presenting', 'haired', 'romp', 'rude', 'malone', 'underneath', 'relax', 'shoulder', 'breed', 'releases', 'fantasies', 'babies', 'fingers', 'ethnic', 'penn', 'fathers', 'nolan', 'appropriately', 'active', 'karl', 'charged', 'accomplish', 'challenged', 'rely', 'loneliness', 'behaviour', 'encourage', 'shanghai', 'bacon', 'logan', 'dose', 'choppy', 'aspiring', 'inexplicably', 'murdering', 'amusement', 'sharon', 'wwe', 'unlikable', 'clarke', 'beverly', 'sentinel', 'tierney', 'din', 'millionaire', 'singers', 'laurence', 'referred', 'wagner', 'shared', 'servant', 'sketch', 'handling', 'heartfelt', 'mode', 'priceless', 'silliness', 'poison', 'musicians', 'conscience', 'roof', 'saint', 'shoulders', 'translated', 'conscious', 'posters', 'controlled', 'region', 'citizens', 'shoddy', 'freaks', 'uncut', 'noises', 'regarded', 'riot', 'function', 'swing', 'senses', 'cattle', 'nut', 'tomorrow', 'sentiment', 'remakes', 'stack', 'bread', 'blacks', 'iv', 'automatically', 'dud', 'correctly', 'objects', 'esther', 'caricatures', 'grotesque', 'realised', 'mccoy', 'items', 'pitiful', 'positively', 'duvall', 'roller', 'bridget', 'kansas', 'boyle', 'morbid', 'heartbreaking', 'designer', 'demise', 'outs', 'tracking', 'refer', 'ensues', 'complaints', 'trend', 'gregory', 'nemesis', 'pun', 'devices', 'unfold', 'hackneyed', 'preposterous', 'ladder', 'absurdity', 'biased', 'gambling', 'complaining', 'respective', 'secondary', 'respectively', 'greatness', 'nod', 'historic', 'policeman', 'minus', 'skits', 'attenborough', 'dirt', 'les', 'alicia', 'cancer', 'celebration', 'darn', 'profanity', 'ratso', 'boxer', 'insurance', 'patricia', 'hopelessly', 'z', 'tyler', 'curly', 'muppet', 'realm', 'en', 'poe', 'imaginable', 'shares', 'outfits', 'fade', 'invited', 'deserted', 'reluctant', 'accepts', 'youngest', 'misleading', 'occasions', 'eternal', 'meg', 'praised', 'ignorance', 'abrupt', 'hughes', 'naughty', 'bernard', 'chills', 'address', 'daniels', 'heist', 'challenges', 'rod', 'pages', 'asylum', 'disappears', 'sympathize', 'lip', 'backs', 'lush', 'guitar', 'weakness', 'agenda', 'chainsaw', 'visited', 'indication', 'squad', 'aim', 'filler', 'additional', 'secondly', 'glowing', 'corpses', 'brendan', 'wilderness', 'rosemary', 'valentine', 'vader', 'fontaine', 'christine', 'paxton', 'iconic', 'admirable', 'burst', 'threatens', 'reflects', 'conveys', 'labor', 'popping', 'steady', 'cruelty', 'conviction', 'beatles', 'gut', 'hk', 'soup', 'fist', 'prejudice', 'dates', 'canyon', 'oldest', 'thread', 'cope', 'acceptance', 'stopping', 'farmer', 'macho', 'kidman', 'rejected', 'promote', 'drove', 'suspension', 'selection', 'el', 'penny', 'receiving', 'edit', 'gina', 'kline', 'muppets', 'kitty', 'peck', 'chavez', 'fido', 'deleted', 'investigating', 'entitled', 'min', 'guests', 'outing', 'hammy', 'overlong', 'bow', 'hyped', 'hack', 'martha', 'grainy', 'heading', 'venture', 'underworld', 'morally', 'bent', 'bros', 'studying', 'affairs', 'records', 'artsy', 'marvel', 'depending', 'posted', 'lindsay', 'understands', 'explores', 'coincidence', 'demonstrates', 'remade', 'conventions', 'jews', 'gal', 'affection', 'gear', 'housewife', 'recommendation', 'strongest', 'agency', 'minister', 'gillian', 'lois', 'cue', 'bye', 'route', 'grudge', 'visions', 'lifted', 'stalker', 'severely', 'sox', 'coaster', 'insipid', 'jess', 'phenomenon', 'previews', 'weaknesses', 'guaranteed', 'portrayals', 'widescreen', 'vital', 'evidently', 'commander', 'conclude', 'rounded', 'tail', 'confident', 'obligatory', 'circus', 'suitably', 'emerges', 'bitten', 'anticipation', 'casual', 'terrified', 'inconsistent', 'stages', 'counts', 'preachy', 'nails', 'assured', 'difficulty', 'predict', 'psychology', 'representation', 'reeves', 'boston', 'harmless', 'pounds', 'fluff', 'chuckle', 'shades', 'bike', 'lester', 'slimy', 'tip', 'sooner', 'screens', 'attract', 'banal', 'triple', 'redeem', 'misguided', 'tasteless', 'champion', 'recycled', 'wilder', 'locals', 'ants', 'renaissance', 'bronson', 'snakes', 'rome', 'harold', 'preminger', 'hokey', 'hapless', 'rhythm', 'bitch', 'gate', 'claiming', 'exceptions', 'discussing', 'recognizable', 'prominent', 'unrelated', 'stores', 'pg', 'ebert', 'marries', 'couch', 'politician', 'repeating', 'despicable', 'partners', 'pleasing', 'flowers', 'clad', 'clan', 'yeti', 'eats', 'shouting', 'forcing', 'disgusted', 'clueless', 'communicate', 'studies', 'absorbed', 'phillip', 'sassy', 'insists', 'sending', 'vibrant', 'employed', 'connections', 'info', 'bully', 'danish', 'betrayal', 'mothers', 'rapist', 'spinal', 'naschy', 'filth', 'runner', 'tripe', 'feeding', 'unexplained', 'firing', 'coup', 'physics', 'corman', 'denis', 'quaid', 'steele', 'gere', 'barrel', 'cohen', 'ingenious', 'height', 'depends', 'heartwarming', 'befriends', 'sharing', 'rendered', 'transformed', 'glamorous', 'delicate', 'shopping', 'legends', 'garner', 'considerably', 'clock', 'vein', 'screwed', 'blatantly', 'camcorder', 'cookie', 'mentality', 'hepburn', 'fifties', 'strings', 'claustrophobic', 'limit', 'charms', 'weather', 'duck', 'cushing', 'bondage', 'immature', 'option', 'ritchie', 'uh', 'assuming', 'scorsese', 'symbolic', 'cassavetes', 'tenant', 'tempted', 'melissa', 'reign', 'programs', 'schools', 'departure', 'flashy', 'messy', 'firstly', 'deserving', 'exploring', 'ton', 'partially', 'nicolas', 'raj', 'gems', 'salt', 'keen', 'campaign', 'cheer', 'harrison', 'globe', 'leather', 'shaking', 'lasting', 'surgery', 'wings', 'destined', 'stumbles', 'screw', 'static', 'moreover', 'jordan', 'smiles', 'independence', 'voted', 'georges', 'disguise', 'vocal', 'inhabitants', 'colin', 'angst', 'schlock', 'lift', 'damaged', 'beside', 'hilarity', 'doctors', 'defeated', 'remove', 'ariel', 'mirrors', 'bend', 'melody', 'dylan', 'tunnel', 'alvin', 'wax', 'christie', 'institution', 'mol', 'corbett', 'norm', 'handles', 'casts', 'completed', 'inexplicable', 'phillips', 'bates', 'elite', 'frames', 'northern', 'racing', 'publicity', 'threatened', 'coupled', 'accurately', 'oriented', 'trials', 'swept', 'mayhem', 'triangle', 'ambition', 'shortcomings', 'satirical', 'hangs', 'stairs', 'debate', 'belt', 'someday', 'minority', 'bridges', 'backwards', 'excess', 'razor', 'milo', 'windows', 'offs', 'ace', 'paintings', 'computers', 'uniformly', 'carey', 'newer', 'lukas', 'assassination', 'towers', 'commenting', 'neurotic', 'comparisons', 'wire', 'marlon', 'centre', 'lifeless', 'claude', 'continually', 'wig', 'deer', 'traffic', 'alley', 'sorely', 'uma', 'boyer', 'insightful', 'mutual', 'inspire', 'hides', 'token', 'buzz', 'zane', 'neatly', 'rope', 'entered', 'natives', 'brooding', 'formed', 'bars', 'goers', 'ripping', 'concepts', 'landed', 'mannerisms', 'preferred', 'audrey', 'pacific', 'earn', 'outright', 'punches', 'thrilled', 'feat', 'biblical', 'obtain', 'organized', 'predecessor', 'dandy', 'chamberlain', 'proving', 'audition', 'rear', 'firmly', 'knightley', 'bowl', 'elevator', 'trier', 'europa', 'suggestion', 'mathieu', 'cbs', 'disorder', 'beware', 'pole', 'disastrous', 'demonic', 'layers', 'mercy', 'detectives', 'goldsworthy', 'pc', 'jared', 'fishburne', 'pickford', 'kathryn', 'highway', 'shorter', 'demanding', 'bombs', 'crossing', 'poker', 'helpful', 'frontal', 'exquisite', 'cartoonish', 'destroys', 'sleeps', 'injured', 'setup', 'toronto', 'describing', 'helpless', 'duration', 'tower', 'dvds', 'wanders', 'eleven', 'choosing', 'healthy', 'educated', 'evolution', 'outdated', 'speeches', 'heels', 'boasts', 'refuse', 'breakfast', 'topics', 'seeming', 'subtly', 'emerge', 'lex', 'vain', 'skit', 'niece', 'liu', 'spies', 'rooting', 'alexandre', 'anton', 'reliable', 'guinness', 'containing', 'undead', 'akin', 'carlito', 'evelyn', 'vile', 'conan', 'cher', 'lampoon', 'nolte', 'moe', 'joker', 'zombi', 'profession', 'affects', 'relentless', 'cerebral', 'miniseries', 'authorities', 'nations', 'masterfully', 'hulk', 'applaud', 'affleck', 'owners', 'dazzling', 'owes', 'located', 'stare', 'shell', 'loretta', 'crashes', 'sleaze', 'gods', 'goldblum', 'justified', 'wrenching', 'mixing', 'linear', 'jacket', 'holocaust', 'myth', 'refers', 'weaker', 'critique', 'tops', 'seedy', 'mesmerizing', 'error', 'candidate', 'internal', 'deny', 'engrossing', 'tokyo', 'genie', 'conrad', 'statue', 'sincerely', 'sometime', 'bloom', 'trivia', 'caricature', 'exploits', 'restrained', 'unlikeable', 'gilliam', 'altered', 'spree', 'bulk', 'las', 'gimmick', 'artwork', 'radical', 'huston', 'clara', 'coat', 'pixar', 'dudley', 'bogus', 'bachelor', 'creek', 'charlton', 'einstein', 'mitch', 'capote', 'lean', 'guards', 'motive', 'boris', 'washed', 'detract', 'freeze', 'males', 'carmen', 'interestingly', 'expertly', 'strengths', 'wardrobe', 'gained', 'label', 'grounds', 'fifth', 'startling', 'leaders', 'disguised', 'advertised', 'rapidly', 'hum', 'giants', 'bones', 'net', 'shaped', 'hugely', 'bach', 'excellently', 'narrow', 'preparing', 'missile', 'hires', 'convicted', 'insights', 'butcher', 'ingrid', 'luis', 'cecil', 'macabre', 'armstrong', 'gates', 'corporation', 'homes', 'modest', 'des', 'kazan', 'potter', 'origin', 'kent', 'election', 'rides', 'paula', 'monty', 'scariest', 'behold', 'abruptly', 'activity', 'judd', 'dubious', 'vanessa', 'homicide', 'miami', 'dim', 'casino', 'unsuspecting', 'cemetery', 'mabel', 'nope', 'cain', 'tapes', 'antonio', 'arab', 'addict', 'natalie', 'parsons', 'unsure', 'mitchum', 'contempt', 'reeve', 'shepherd', 'timberlake', 'winchester', 'corn', 'lend', 'residents', 'votes', 'owned', 'differently', 'realities', 'stalking', 'literal', 'hers', 'netflix', 'youthful', 'suburban', 'buys', 'dominated', 'definitive', 'confront', 'mum', 'thirties', 'compete', 'item', 'grateful', 'authenticity', 'contribution', 'rampage', 'tossed', 'factors', 'mermaid', 'growth', 'endlessly', 'sergeant', 'truman', 'entering', 'vividly', 'gable', 'earnest', 'origins', 'dealer', 'confronted', 'insults', 'lasts', 'walt', 'enhanced', 'eternity', 'convinces', 'accessible', 'referring', 'undeniably', 'limitations', 'approaches', 'salvation', 'chronicles', 'stunningly', 'w', 'braveheart', 'rookie', 'reward', 'painter', 'survives', \"o'hara\", 'fatale', 'puppets', 'promptly', 'nina', 'crosby', 'vastly', 'porter', 'lennon', 'inaccurate', 'vehicles', 'repulsive', 'mason', 'hackman', 'scifi', 'playboy', 'mcqueen', 'soylent', 'beowulf', 'jedi', 'yokai', 'sized', 'dismal', 'supply', 'users', 'banter', 'sinking', 'separated', 'terminator', 'depths', 'photographs', 'underwater', 'longest', 'energetic', 'clash', 'colours', 'hindi', 'blooded', 'bruno', 'homosexuality', 'divorced', 'nerve', 'galaxy', 'mates', 'eventual', 'bsg', 'lighter', 'swallow', 'expects', 'misfortune', 'insanity', 'siblings', 'cries', 'offbeat', 'repressed', 'jarring', 'published', 'unattractive', 'perception', 'inspirational', 'nominations', 'sniper', 'pale', 'bashing', 'screenwriters', 'sophie', 'principle', 'glued', 'magician', 'interact', 'owns', 'wander', 'meandering', 'spit', 'sticking', 'cinemas', 'respectable', 'mice', 'cents', 'pirate', 'approaching', 'lauren', 'tax', 'butch', 'tormented', 'damned', 'inherent', 'identical', 'servants', 'mutant', 'caron', 'cleaning', 'errol', 'disabled', 'lola', 'puerto', 'casper', 'amrita', 'thunderbirds', 'gunga', 'wendigo', 'chopped', 'estranged', 'fragile', 'assembled', 'pocket', 'passengers', 'victorian', 'exploit', 'regards', 'devastating', 'implied', 'sf', 'cyborg', 'conveyed', 'depict', 'teams', 'enthusiastic', 'filthy', 'flashes', 'irene', 'sensible', 'snuff', 'spine', 'belly', 'improbable', 'uniform', 'exterior', 'natured', 'promoted', 'pray', 'witchcraft', 'ie', 'harlow', 'sand', 'judged', 'adore', 'incidentally', 'breathing', 'harriet', 'delicious', 'senior', 'headache', 'crisp', 'jules', 'informed', 'slide', 'decidedly', 'lightning', 'span', 'exit', 'hats', 'disgrace', 'cheaply', 'derivative', 'randolph', 'sale', 'steam', 'ally', 'immortal', 'concentrate', 'dread', 'garland', 'exorcist', 'stardom', 'mama', 'axe', 'nbc', 'incapable', 'lance', 'yawn', 'ronald', 'burke', 'tara', 'mobile', 'kinnear', 'flimsy', 'unimaginative', 'barbra', 'toni', 'reports', 'isolation', 'sought', 'pattern', 'demonstrate', 'sublime', 'juliet', 'combines', 'contribute', 'principals', 'intricate', 'cliches', 'escaping', 'quentin', 'expose', 'plotting', 'biting', 'budgets', 'quarter', 'wisely', 'continuing', 'christina', 'glaring', 'embrace', 'nerves', 'psychopath', 'possess', 'messing', 'divine', 'conveniently', 'stylized', 'deanna', 'amazon', 'expectation', 'franklin', 'scarface', 'loy', 'packs', 'grass', 'foolish', 'reminder', 'polly', 'astounding', 'judgment', 'berkeley', 'wonderland', 'appeals', 'ensure', 'seymour', 'arguing', 'asia', 'outline', 'numbing', 'advised', 'tremendously', 'dilemma', 'volume', 'crippled', 'karate', 'colored', 'experiencing', 'selected', 'stranded', 'jealousy', 'deliverance', 'entirety', 'scoop', 'hayworth', 'underwear', 'drinks', 'scratch', 'excruciatingly', 'kidnapping', 'spencer', 'quantum', 'miranda', 'forgiven', 'masterson', 'timmy', 'severed', 'whiny', 'pumbaa', 'gypo', 'sidewalk', 'fleshed', 'celebrated', 'rescued', 'sucker', 'establish', 'dashing', 'rainy', 'aussie', 'slip', 'characteristics', 'pursue', 'jaded', 'absorbing', 'tendency', 'odyssey', 'thieves', 'colleagues', 'habit', 'samantha', 'decline', 'distract', 'esquire', 'standout', 'disgust', 'reviewing', 'aided', 'gentlemen', 'subway', 'remembering', 'spaghetti', 'copied', 'worms', 'freaky', 'debt', 'answered', 'turmoil', 'laurie', 'laden', 'attacking', 'tourist', 'robertson', 'morals', 'dukes', 'daisy', 'immense', 'fairbanks', 'resulted', 'whining', 'parallels', 'herman', 'grandma', 'peaceful', 'imo', 'ultimatum', 'troma', 'resolved', 'werewolves', 'knocks', 'collect', 'tool', 'sentimentality', 'filmmaking', 'dustin', 'switched', 'dump', 'classy', 'nightclub', 'balanced', 'wtf', 'taped', 'ominous', 'crown', 'obsessive', 'minnelli', 'clay', 'hippies', 'dj', 'jodie', 'revolt', 'salman', 'youtube', 'pegg', 'niven', 'thurman', 'cheadle', 'gamera', 'ghetto', 'establishing', 'deliberate', 'approached', 'alleged', 'fright', 'lethal', 'peculiar', 'spectacle', 'voyage', 'romeo', 'cal', 'shift', 'sydney', 'rider', 'longing', 'begging', 'unsatisfying', 'lavish', 'virtual', 'rewarding', 'theories', 'define', 'goods', 'aggressive', 'taboo', 'longoria', 'collective', 'yours', 'jury', 'accepting', 'swearing', 'climb', 'wong', 'fills', 'noticeable', 'psychologist', 'havoc', 'busey', 'updated', 'alter', 'bikini', 'accounts', 'overblown', 'wounds', 'pause', 'horny', 'rebellious', 'europeans', 'bubble', 'mouthed', 'frontier', 'dame', 'arranged', 'stella', 'shootout', 'furniture', 'boiled', 'jacques', 'papers', 'shepard', 'feast', 'cape', 'wielding', 'addiction', 'admired', 'chill', 'clive', 'clone', 'suspected', 'mystical', 'passage', 'erika', 'stephanie', 'vince', 'syndrome', 'mormon', 'adrian', 'hadley', 'fassbinder', 'vega', 'sarandon', 'establishment', 'gielgud', 'moron', 'bachchan', 'clooney', 'bounty', 'jenna', 'hybrid', 'reviewed', 'achieves', 'breakdown', 'commits', 'gilbert', 'commitment', 'distress', 'settled', 'mentor', 'cultures', 'lang', 'enhance', 'demonstrated', 'readers', 'borders', 'wine', 'traits', 'delighted', 'smash', 'hyper', 'sarcastic', 'carnage', 'polish', 'scored', 'sources', 'poses', 'indiana', 'hi', 'aiming', 'ricky', 'arc', 'realization', 'slapped', 'canceled', 'backed', 'contributed', 'sang', 'avoiding', 'ritual', 'bogart', 'cuban', 'excuses', 'demille', 'fascist', 'diverse', 'feminine', 'bravo', 'turd', 'verbal', \"i'm\", 'sixth', 'pad', 'medieval', 'skinny', 'salesman', 'crashing', 'vanity', 'korea', 'exploited', 'strict', 'populated', 'dramatically', 'stones', 'lunch', 'basket', 'jersey', 'vanilla', 'exploding', 'leap', 'acquired', 'pierre', 'debbie', 'skilled', 'duel', 'schneider', 'destructive', 'hannah', 'anthology', 'rowlands', 'chiba', 'remembers', 'controlling', 'defies', 'graveyard', 'attending', 'phenomenal', 'drab', 'shockingly', 'subtext', 'foundation', 'immigrant', 'arrest', 'races', 'readily', 'covering', 'ranch', 'sells', 'explosive', 'intentional', 'deliciously', 'apply', 'awakening', 'wiped', 'flower', 'august', 'jewel', 'mortal', 'jan', 'delightfully', 'spice', 'mute', 'goodbye', 'yep', 'novelty', 'vintage', 'instincts', 'seductive', 'monologue', 'relentlessly', 'stroke', 'cooking', 'flavor', 'posing', 'courtroom', 'legitimate', 'predictably', 'incorrect', 'melvyn', 'suggesting', 'anticipated', 'comprehend', 'jill', 'unsympathetic', 'toby', 'overboard', 'encountered', 'clerk', 'juliette', 'cypher', 'optimistic', 'explodes', 'trains', 'weary', 'contestants', 'insist', 'seasoned', 'freaking', 'trace', 'planes', 'gibson', 'pirates', 'pound', 'mysteriously', 'cigarette', 'rivers', 'inmates', 'possession', 'newcomer', 'georgia', 'upside', 'fried', 'gershwin', 'pedestrian', 'israeli', 'brainless', 'introducing', 'expense', 'martian', 'cunningham', 'jolie', 'dragons', 'nun', 'arquette', 'elliott', 'tolerable', 'serum', 'morons', 'owl', 'doyle', 'mole', 'cutter', 'deciding', 'sailor', 'sanders', 'collette', 'consideration', 'hateful', 'symbol', 'phase', 'dumped', 'tuned', 'shifts', 'arriving', 'lowe', 'consciousness', 'respects', 'fuzzy', 'wider', 'columbia', 'pathos', 'economic', 'puppy', 'lends', 'mythology', 'romances', 'viewpoint', 'wash', 'tactics', 'goals', 'possesses', 'ira', 'arguments', 'neglected', 'anxious', 'puzzle', 'invention', 'stream', 'auto', 'crosses', 'consist', 'abandon', 'sammo', 'circles', 'psyche', 'wastes', 'olds', 'pursued', 'coke', 'cliffhanger', 'hooker', 'mouths', 'indifferent', 'madsen', 'dumber', 'admitted', 'unusually', 'nuances', 'lucille', 'attended', \"don't\", 'fluid', 'beckinsale', 'herbert', 'produces', 'products', 'serials', 'motions', 'redundant', 'cliched', 'liam', 'beg', 'rea', 'pushes', 'feeble', 'idol', 'deputy', 'bonnie', 'arkin', 'swinging', 'predator', 'slaves', 'dumbest', 'haines', 'frog', 'darth', 'slugs', 'sgt', 'angie', 'parking', 'hooper', 'dahmer', 'anil', 'sundance', 'kathy', 'horrified', 'factual', 'employee', 'compliment', 'rapid', 'edith', 'themed', 'shah', 'document', 'frantic', 'distracted', 'invite', 'misunderstood', 'ny', 'casablanca', 'pfeiffer', 'indicate', 'stating', 'professionals', 'anytime', 'degrees', 'brow', 'marilyn', 'downs', 'originals', 'informative', 'sheen', 'eli', 'guinea', 'kidnap', 'releasing', 'session', 'begs', 'fanatic', 'toned', 'aftermath', 'rice', 'zorro', 'ordeal', 'biker', 'graduate', 'deed', 'whites', 'obstacles', 'arrow', 'soprano', 'sunrise', 'rejects', 'adaption', 'noteworthy', 'convention', 'cindy', 'fools', 'void', 'rational', 'enigmatic', 'unanswered', 'reverse', 'keys', 'shoe', 'routines', 'python', 'meal', 'wheel', 'discussed', 'campus', 'cannes', 'excruciating', 'crossed', 'greene', 'moss', 'arty', 'cab', 'daylight', 'denise', 'meantime', 'dillinger', 'visconti', 'um', 'starters', 'tickets', 'stabbed', 'sondra', 'cody', 'olivia', 'embarrassingly', 'wheelchair', 'flock', 'macdonald', 'chong', 'iturbi', 'creasy', 'insomnia', 'forgetting', 'sided', 'inaccuracies', 'frozen', 'realistically', 'depictions', 'afterward', 'sarcasm', 'instances', 'festivals', 'mick', 'followers', 'warns', 'mock', 'generate', 'july', 'geek', 'incidents', 'grabbed', 'verdict', 'screwball', 'goodman', 'regularly', 'grip', 'manners', 'goldie', 'thelma', 'playwright', 'corey', 'sterling', 'pointing', 'tcm', 'saloon', 'county', 'roughly', 'jose', 'centuries', 'dreamy', 'controversy', 'relating', 'varied', 'robbers', 'forties', 'medicine', 'northam', 'gwyneth', 'vera', 'iranian', 'ruining', 'distraction', 'sickening', 'foil', 'policy', 'targets', 'assignment', 'rips', 'funding', 'narrated', 'cameraman', 'rambling', 'shore', 'murky', 'coffin', 'agony', 'debra', 'intro', 'executives', 'breast', 'uncanny', 'paints', 'fleet', 'likeable', 'juan', 'gallery', 'motorcycle', 'muslims', 'otto', 'translate', 'lionel', 'kris', 'vonnegut', 'shaggy', 'reiser', 'snowman', 'gooding', 'tomei', 'truths', 'guardian', 'lurking', 'replacement', 'plodding', 'hoot', 'burnt', 'blamed', 'frances', 'gloria', 'gigantic', 'ambitions', 'tho', 'criticize', 'begun', 'politicians', 'glimpses', 'pains', 'scripting', 'inclusion', 'relevance', 'midst', 'du', 'gap', 'traps', 'paranoid', 'artistry', 'exclusively', 'statements', 'phones', 'pans', 'faux', 'replies', 'stance', 'phoenix', 'flames', 'convict', 'warden', 'suspicion', 'enchanted', 'simpsons', 'seats', 'linked', 'sunset', 'er', 'sweden', 'launch', 'cycle', 'apocalyptic', 'resembling', 'stalked', 'detroit', 'click', 'veterans', 'diary', 'fellini', 'trigger', 'imaginary', 'slim', 'gestures', 'eagerly', 'abortion', 'dismiss', 'sweat', 'bats', 'rehash', 'occult', 'godard', 'dominic', 'necessity', 'intensely', 'glance', 'redneck', 'maureen', 'giovanna', 'sentences', 'investigator', 'participants', 'vomit', 'gus', 'dynamics', 'y', 'cow', 'cap', 'stiles', 'stink', 'blaise', 'tomb', 'colman', 'gackt', 'sho', 'wayans', 'finney', 'penelope', 'laputa', 'battlestar', 'substantial', 'scenarios', 'stern', 'masked', 'abound', 'satisfaction', 'payoff', 'btw', 'psychedelic', 'talky', 'overbearing', 'quasi', 'determination', 'avid', 'rounds', 'bosses', 'mins', 'paths', 'haunt', 'capacity', 'parrot', 'consequently', 'applied', 'nuanced', 'gaps', 'jar', 'upcoming', 'apt', 'amidst', 'protest', 'bearing', 'chamber', 'popped', 'alot', 'em', 'maintains', 'applies', 'momentum', 'ambiguity', 'offend', 'alliance', 'reflected', 'sights', 'extensive', 'brat', 'resume', 'foremost', 'consequence', 'entrance', 'widowed', 'platform', 'characterisation', 'envy', 'hating', 'surroundings', 'rewarded', 'hayes', 'brides', 'gloomy', 'handicapped', 'qualify', 'smell', 'pilots', 'ample', 'blandings', 'sparks', 'brooke', 'watcher', 'hinted', 'pressed', 'ish', 'revolving', 'pen', 'revival', 'baron', 'bleed', 'collector', 'services', 'diner', 'ignores', 'homicidal', 'shotgun', 'uniforms', 'sketches', 'girlfriends', 'anita', 'unstable', 'randall', 'stake', 'intact', 'rodriguez', 'combs', 'studied', 'lopez', 'sins', 'angelina', 'goat', 'v', 'meteor', 'ugh', 'hines', 'beckham', 'meyer', 'republic', 'rosario', 'dafoe', 'galactica', 'slater', 'mannered', 'clunky', 'trauma', 'voyager', 'gathering', 'witnessing', 'interior', 'observe', 'awareness', 'rebels', 'interviewed', 'acknowledge', 'visitor', 'reunite', 'bernsen', 'benefits', 'safely', 'pivotal', 'coma', 'valid', 'boundaries', 'antagonist', 'periods', 'relying', 'controls', 'kathleen', 'brett', 'disco', 'therapy', 'targeted', 'sly', 'injury', 'hawn', 'precise', 'murderers', 'invested', 'collar', 'rolls', 'bauer', 'weekly', 'prophecy', 'mccarthy', 'schedule', 'hysterically', 'bennett', 'novelist', 'natali', 'curiously', 'maximum', 'locke', 'denouement', 'fruit', 'collins', 'sheets', 'pose', 'resistance', 'bait', 'unfolding', 'coward', 'stabbing', 'courtesy', 'drowned', 'misty', 'exploitative', 'questioning', 'imagining', 'overs', 'array', 'dynamite', 'convent', 'russo', 'diego', 'cena', 'stations', 'ignoring', 'madeleine', 'delirious', 'johansson', 'sufficient', 'evans', 'marked', 'wright', 'kells', 'joking', 'october', 'assure', 'lunatic', 'upstairs', 'whore', 'geisha', 'meredith', 'phantasm', 'martino', 'aaron', 'pornography', 'fallon', 'gannon', 'myrtle', 'feinstone', 'caretaker', 'commendable', 'fortunate', 'fuel', 'landmark', 'spotlight', 'fundamental', 'famed', 'skeptical', 'ins', 'sour', 'addressed', 'rightly', 'substitute', \"o'brien\", 'profile', 'deemed', 'shocks', 'outlandish', 'entries', 'announced', 'wartime', 'communication', 'thailand', 'seduce', 'baddies', 'displaying', 'enchanting', 'vignettes', 'characterizations', 'palm', 'lens', 'criticized', 'climbing', 'similarity', 'hostel', 'nauseating', 'strung', 'supreme', 'customers', 'colleague', 'iq', 'magically', 'villainous', 'turkish', 'thereby', 'incest', 'tire', 'engine', 'admits', 'commanding', 'counting', 'repeats', 'sensibility', 'biopic', 'crushed', 'composition', 'fiancée', 'bias', 'flag', 'daytime', 'realises', 'stereotyped', 'heath', 'existing', 'riff', 'slower', 'anyhow', 'portuguese', 'stadium', 'interrupted', 'slashers', 'wrestler', 'silverman', 'fart', 'duh', 'inadvertently', 'sebastian', 'jude', 'sherlock', 'chew', 'steer', 'raging', 'jagger', 'gorilla', 'candle', 'massey', 'marine', 'reserved', 'divided', 'satanic', 'boots', 'sonny', 'laboratory', 'cocaine', 'russ', 'bust', 'omar', 'projected', \"c'mon\", 'scarlet', 'olsen', 'coburn', 'bonanza', 'frost', 'rupert', 'boogie', 'edison', 'vargas', 'reagan', 'grendel', 'kristofferson', 'brashear', 'snipes', 'characteristic', 'evokes', 'penned', 'nightmarish', 'shred', 'kirsten', 'wee', 'stumble', 'contestant', 'scheming', 'isabelle', 'reluctantly', 'climatic', 'manipulation', 'arrogance', 'orchestra', 'plate', 'takashi', 'complications', 'goings', 'finishing', 'q', 'testing', 'chandler', 'protective', 'egyptian', 'progressed', 'apocalypse', 'destination', 'marcel', 'aesthetic', 'epics', 'barker', 'fetish', 'unclear', 'charges', 'elsa', 'favourites', 'hostile', 'krueger', 'needing', 'quintessential', 'yell', 'file', 'burial', 'diversity', 'samuel', 'camping', 'boo', 'confined', 'forgets', 'finishes', 'nora', 'observations', 'spade', 'inter', 'conductor', 'waking', 'interpretations', 'merry', 'mandy', 'turtle', 'chuckles', 'wholesome', 'garfield', 'district', 'unhinged', 'smug', 'tide', 'hardened', 'understandably', 'ninety', 'suzanne', 'comeback', 'blockbusters', 'obscurity', 'enduring', 'hmmm', 'additionally', 'thunder', 'stuffed', 'tightly', 'liotta', 'traumatic', 'sylvia', 'apple', 'laying', 'incestuous', 'update', 'cedric', 'gino', 'despise', 'howling', 'loren', 'unfamiliar', 'chewing', 'dreaming', 'shameless', 'janet', 'castro', 'jackman', 'ferrell', 'dreyfuss', 'monotonous', 'ernie', 'trivial', 'explode', 'artemisia', 'scarecrows', 'bonham', 'serbian', 'luzhin', 'guevara', 'marisa', 'rourke', 'ursula', 'harron', 'segal', 'shahid', 'blazing', 'captivated', 'harrowing', 'faded', 'tones', 'article', 'abundance', 'verge', 'traditions', 'devotion', 'flashing', 'grin', 'temper', 'hunted', 'practical', 'defining', 'perverted', 'inserted', 'deeds', 'thrust', 'unnecessarily', 'taut', 'juice', 'seattle', 'relaxed', 'gosh', 'remark', 'rampant', 'sholay', 'flows', 'glossy', 'infinitely', 'whimsical', 'lo', 'flip', 'chip', 'zodiac', 'dallas', 'monroe', 'transparent', 'ripoff', 'cons', 'dangerously', 'almighty', 'affecting', 'recover', 'cheerful', 'reminding', 'bittersweet', 'surround', 'achievements', 'clarity', 'hostage', 'license', 'discipline', 'kaufman', 'ala', 'motel', 'layered', 'byron', 'earliest', 'prop', 'babes', 'shannon', 'accidental', 'understatement', 'slavery', 'madison', 'sitcoms', 'raid', 'sophia', 'accompanying', 'pizza', 'participate', 'considers', 'comparable', 'insert', 'convenient', 'annoy', 'crooks', 'protection', 'titular', 'unappealing', 'chaotic', 'peggy', 'polar', 'gypsy', 'constraints', 'carlos', 'seth', 'versa', 'voodoo', 'barney', 'monks', 'sincerity', 'depardieu', 'beard', 'meadows', 'scarlett', 'summed', 'senator', 'kinski', 'vivian', 'adele', 'shin', 'lara', 'brent', 'bean', 'redgrave', 'semblance', 'choir', 'rohmer', 'pecker', 'jabba', 'ajay', 'celebrities', 'restraint', 'permanent', 'pee', 'sunk', 'atlantic', 'salvage', 'liner', 'ruled', 'sexist', 'complained', 'gangs', 'admission', 'hallmark', 'admirer', 'adapt', 'herd', 'borrow', 'sporting', 'fires', 'sheep', 'proceed', 'orphan', 'ghostly', 'plug', 'inclined', 'excels', 'rendering', 'distributed', 'spoiling', 'theodore', 'oblivious', 'superstar', 'programme', 'cancelled', 'awaiting', 'sara', 'ghastly', 'booth', 'coolest', 'deepest', 'pitched', 'creations', 'committing', 'benjamin', 'resolve', 'presidential', 'mister', 'melancholy', 'openly', 'evoke', 'blondell', 'subsequently', 'occupied', 'searched', 'myrna', 'outrageously', 'upbeat', 'desk', 'joint', 'avoids', 'facility', 'toxic', 'digging', 'eagle', 'listened', 'ernest', 'meek', 'organization', 'dragging', 'networks', 'preacher', 'flame', 'switching', 'philo', 'wherever', 'espionage', 'cloak', 'sheridan', 'ram', 'drift', 'sane', 'luc', 'henchmen', 'han', 'fritz', 'robbed', 'uneasy', 'holt', 'kindly', 'battlefield', 'drowning', 'motivated', 'preaching', 'fashions', 'sanity', 'pornographic', 'duchovny', 'hugo', 'filmography', 'intend', 'bloodbath', 'dictator', 'variation', 'sickness', 'sergio', 'slut', 'colony', 'vcr', 'implies', 'compensate', 'belle', 'martians', 'je', 'cheech', 'arnie', 'redford', 'englund', 'caprica', 'hobgoblins', 'sack', 'warehouse', 'se', 'awarded', 'deck', 'distinction', 'encouraged', 'tools', 'clouds', 'excellence', \"o'neill\", 'monica', 'assistance', 'faint', 'mega', 'betrayed', 'fairness', 'screened', 'assumes', 'seuss', 'censorship', 'transport', 'heap', 'britney', 'gig', 'flowing', 'rebellion', 'progression', 'impending', 'electronic', 'sensual', 'prone', 'cheering', 'vapid', 'pigs', 'mamet', 'enormously', 'caper', 'sharks', 'client', 'shirts', 'overtones', 'miraculously', 'payne', 'sober', 'dash', 'quaint', 'whip', 'battling', 'detached', 'demeanor', 'rivals', 'carpet', 'fitzgerald', 'sections', 'epitome', 'edmund', 'marijuana', 'ealing', 'stoned', 'nutshell', 'mud', 'busby', 'lil', 'diving', 'midget', 'garage', 'pretends', 'cassie', 'jo', 'brit', 'robotic', 'admiration', 'sales', 'vet', 'raunchy', 'crowe', 'brazilian', 'mart', 'spontaneous', 'dante', 'beforehand', 'suave', 'ninjas', 'unconventional', 'scratching', 'sucking', 'alarm', 'underdeveloped', 'dom', 'remainder', 'l', 'runaway', 'pia', 'courageous', 'warrant', 'circa', 'joining', 'informer', 'egg', 'confuse', 'patty', 'observation', 'slam', 'dyke', 'vigilante', 'val', 'unnatural', 'snap', 'bodyguard', 'stepmother', 'travis', 'chloe', 'avenge', 'wesley', 'mack', 'fodder', 'irritated', 'lubitsch', 'macmurray', 'croc', 'submarine', 'roach', 'dwight', 'paz', 'surf', 'dunst', 'worrying', 'fiend', 'fraud', 'doug', 'engineer', 'combining', 'conveying', 'interiors', 'respond', 'hometown', 'socially', 'timed', 'effortlessly', 'prologue', 'grandpa', 'surrender', 'wu', 'dominate', 'brush', 'unleashed', 'cohesive', 'mobster', 'policemen', 'qualifies', 'defending', 'drum', 'bleeding', 'tended', 'budding', 'cursed', 'signature', 'breathe', 'division', 'tits', 'reject', 'elected', 'queens', 'lindy', 'spiral', 'labeled', 'secure', 'tacked', 'manipulated', 'ideals', 'managing', 'bartender', 'poet', 'regime', 'cracks', 'travolta', 'pursuing', 'knights', 'grating', 'noting', 'fades', 'disregard', 'parodies', 'prank', 'loner', 'rivalry', 'buffy', 'woefully', 'marvin', 'celebrate', 'transforms', 'distinctive', 'ambiance', 'automatic', 'madman', 'crashed', 'emmy', 'norris', 'chops', 'beers', 'stab', 'weirdness', 'shameful', 'failures', 'principles', 'prostitution', 'incidental', 'faye', 'sandy', 'bimbo', 'symbols', 'dern', 'reported', 'cells', 'offense', 'spoofs', 'irving', 'barnes', 'bert', 'edges', 'notices', 'boobs', 'forsythe', 'sinks', 'eh', 'shrek', 'spaceship', 'peckinpah', 'pauline', 'forrest', 'everett', 'radiation', 'melbourne', 'vaughn', 'govinda', 'bronte', 'stardust', 'coop', 'beetle', 'frat', 'gena', 'hanzo', 'deathtrap', 'flavia', 'panahi', 'bless', 'officially', 'ads', 'framing', 'fiery', 'slept', 'inform', 'informs', 'employees', 'experts', 'sustain', 'starship', 'troopers', 'influences', 'forgiveness', 'elephants', 'annoyance', 'manga', 'fabric', 'bastard', 'screenplays', 'aniston', 'structured', 'uncertain', 'confines', 'nest', 'norton', 'baked', 'hairy', 'zu', 'saints', 'letdown', 'buttons', 'blames', 'responds', 'animator', 'pompous', 'mills', 'concentration', 'clarence', 'peers', 'sensitivity', 'billing', 'stirring', 'laser', 'clyde', 'bites', 'pairing', 'idealistic', 'jam', 'sixteen', 'hmm', 'ang', 'drain', 'clinic', 'vincenzo', 'tin', 'tolerance', 'perverse', 'associate', 'torment', 'examine', 'closure', 'reunited', 'programming', 'slash', 'yells', 'coppola', 'gandolfini', 'playful', 'seriousness', 'manic', 'pervert', 'connie', 'benny', 'worm', 'peril', 'gruff', 'solved', 'cockney', 'shield', 'riders', 'mae', 'damsel', 'influential', 'classmates', 'dillon', 'banks', 'tramp', 'darkly', 'spelling', 'december', 'transplant', 'tackle', 'counterparts', 'islands', 'distorted', 'swiss', 'predecessors', 'reasoning', 'shatner', 'investment', 'latino', 'outset', 'pickup', 'clutter', 'mustache', 'farrah', 'rodney', 'helmet', 'midler', 'abomination', 'noam', 'palestinian', 'myra', 'jigsaw', 'sammi', 'plummer', 'harilal', 'gretchen', 'tashan', 'determine', 'hypnotic', 'morse', 'rousing', 'criticisms', 'boards', 'uptight', 'staging', 'cunning', 'powered', 'armor', 'happenings', 'collapse', 'echoes', 'guru', 'perspectives', 'atrocity', 'inexperienced', 'transported', 'mythical', 'worship', 'crypt', 'marrying', 'nineties', 'advances', 'crowded', 'anguish', 'euro', 'imho', 'kramer', 'lurid', 'funky', 'lifts', 'data', 'reckless', 'inconsistencies', 'spelled', 'cheers', 'tolerate', 'freed', 'captive', 'tricked', 'egypt', 'blessed', 'plagued', 'emphasize', 'anxiety', 'casted', 'justification', 'jewelry', 'conclusions', 'asset', 'liberty', 'stricken', 'marcus', 'coal', 'abu', 'pepper', 'stabs', 'todays', 'widower', 'muriel', 'interplay', 'apollo', 'economy', 'vertigo', 'shout', 'brandon', 'gasp', 'fixed', 'dish', 'communism', 'allan', 'gladiator', 'fighters', 'somethings', 'sammy', 'chock', 'lighthearted', 'hans', 'drummer', 'nearest', 'strained', 'kidnaps', 'bitchy', 'overshadowed', 'lizard', 'archer', 'cowardly', 'functions', 'grease', 'drugged', 'cringing', 'imitate', 'brick', 'geoffrey', 'drawings', 'curtain', 'stripper', 'butchered', 'acclaim', 'henchman', 'collaboration', 'hallucinations', 'depend', 'cannibals', 'placement', 'lions', 'malden', 'mixes', 'identified', 'systems', 'varying', 'awry', 'surgeon', 'attendant', 'ceiling', 'lingering', 'padding', 'unravel', 'decency', 'plotted', 'superfluous', 'maintaining', 'parks', 'outlaw', 'auteur', 'burgess', 'berenger', 'shoved', 'romania', 'bio', 'floriane', 'groove', 'pertwee', 'mira', 'sacrifices', 'hilton', 'della', 'fagin', 'stares', 'reese', 'simba', 'lindsey', 'farnsworth', 'kilmer', 'shaun', 'chen', 'warhols', 'zelah', 'culkin', 'conflicted', 'finely', 'bombed', 'shelter', 'icy', 'rockets', 'spotted', 'representative', 'liberties', 'posh', 'scriptwriter', 'fierce', 'profoundly', 'ensue', 'villa', 'dedication', 'echo', 'revolver', 'replacing', 'categories', 'lays', 'sensibilities', 'clockwork', 'adultery', 'deborah', 'kings', 'register', 'russians', 'officials', 'padded', 'allies', 'magazines', 'luxury', 'borrows', 'portions', 'abstract', 'switches', 'locale', 'entertains', 'jurassic', 'dive', 'mostel', 'czech', 'grossly', 'tsui', 'analyze', 'torturing', 'contributes', 'believability', 'strain', 'promoting', 'confronts', 'ostensibly', 'observed', 'towns', 'fur', 'romanian', 'disappearance', 'virtue', 'impressions', 'sensational', 'showcases', 'prostitutes', 'airing', 'athletic', 'hurry', 'spells', 'lanza', 'paired', 'sites', 'vienna', 'sorrow', 'drastically', 'k', 'wrongly', 'derived', 'thorn', 'marines', 'federal', 'gravity', 'crooked', 'vaudeville', 'seduction', 'identities', 'denying', 'knees', 'flew', 'sleeper', 'foreboding', 'tasty', 'badness', 'dwarf', 'amid', 'representing', 'sibling', 'dunne', 'joshua', 'aircraft', 'barton', 'monologues', 'cheung', 'bishop', 'undercover', 'paycheck', 'genetic', 'scorpion', 'rogue', 'operate', 'inhabit', 'mercifully', 'gathered', 'earns', 'tango', 'yarn', 'bogdanovich', 'temptation', 'robbing', 'jerky', 'sophistication', 'apartheid', 'maurice', 'opposition', 'sleepy', 'keanu', 'chemical', 'intellectually', 'supermarket', 'mocking', 'reno', 'sorvino', 'tess', 'rant', 'animations', 'granger', 'continuously', 'ballroom', 'thug', 'disappoints', 'theatres', 'capitalism', 'daria', 'henderson', 'geniuses', 'bart', 'luthor', 'ali', 'lila', 'muni', 'ledger', 'orlando', 'mash', 'mcdermott', 'lin', 'brennan', 'toro', 'boogeyman', 'fanning', 'ewoks', 'steaming', 'cruella', 'kornbluth', 'locate', 'confirmed', 'billion', 'developments', 'aboard', 'engagement', 'sweeping', 'increase', 'reportedly', 'missions', 'judges', 'celine', 'increasing', 'injustice', ':-)', 'gently', 'cinematographic', 'richly', 'lists', 'distinctly', 'pleasures', 'alcoholism', 'fulfilling', 'glenda', 'prolific', 'illustrate', 'bing', 'muscle', 'valerie', 'doris', 'rudd', 'lawn', 'preferably', 'intelligently', 'transitions', 'terrorism', 'ongoing', 'knocking', 'bald', 'goo', 'puzzled', 'bigfoot', 'correctness', 'spinning', 'sensation', 'shady', 'uninspiring', 'willingly', 'maugham', 'consumed', 'judgement', 'presume', 'notwithstanding', 'dealers', 'subdued', 'significantly', 'extraordinarily', 'scattered', 'baddie', 'caruso', 'efficient', 'shelves', 'optimism', 'laced', 'unwilling', 'conniving', 'premiered', 'thirds', 'cloth', 'aura', 'downbeat', 'languages', 'stevenson', 'fuss', 'portman', 'behaving', 'bills', 'fence', 'defy', 'retirement', 'dodgy', 'authors', 'welch', 'shocker', 'scarier', 'icons', 'elder', 'abroad', 'threads', 'lars', 'glow', 'bullies', 'retro', 'wan', 'ceremony', 'owe', 'simpler', 'anchors', 'shifting', 'bloodshed', 'downfall', 'herrings', 'boost', 'prefers', 'mastroianni', 'chang', 'chop', 'rhyme', 'supportive', 'snowy', 'deservedly', 'righteous', 'tables', 'groundbreaking', 'operating', 'standpoint', 'limp', 'condemned', 'artistically', 'carnival', 'profit', 'booker', 'mans', 'bothers', 'thereof', 'elliot', 'celeste', 'expresses', 'beth', 'witted', 'hoover', 'marx', 'atomic', 'swift', 'mcadams', 'katie', 'freaked', 'rapture', 'willy', 'peterson', 'hogan', 'shrill', 'taker', 'sasquatch', 'holland', 'melinda', 'lds', 'prophet', 'manipulate', 'hale', 'dopey', 'ogre', 'diaz', 'bloke', 'golf', 'thereafter', 'dukakis', 'lorre', 'fawcett', 'forbes', 'sykes', 'lansbury', 'nonexistent', 'zhang', \"t'aime\", 'chevy', 'mediocrity', 'izzard', 'shiny', 'azumi', 'hammerhead', 'kareena', 'sarne', 'associates', 'autobiography', 'percent', 'mastermind', 'ravishing', 'overwrought', 'cynicism', 'irrational', 'prolonged', 'slips', 'trusted', 'leaps', 'cheat', 'denver', 'passenger', 'heather', 'maturity', 'lesbians', 'heir', 'fulfill', 'scandal', 'astonishingly', 'straw', 'liz', 'predictability', 'thumb', 'nifty', 'association', 'zealand', 'maverick', 'flamboyant', 'comprised', 'arch', 'caesar', 'visceral', 'pam', 'com', 'dental', 'keeper', 'schwarzenegger', 'natasha', 'illustrated', 'animators', 'unconscious', 'seventh', 'lt', 'recurring', 'toe', 'lightweight', 'immigrants', 'proportions', 'patriotic', 'blackmail', 'jew', 'gee', 'predicted', 'innuendo', 'hark', 'swords', 'imprisoned', 'chef', 'paragraph', 'illusion', 'liar', 'heavenly', 'idiocy', 'muscular', 'gays', 'kenny', 'fable', 'supports', 'shakespearean', 'knives', 'hazzard', 'sabu', 'zeta', 'korda', 'ahmad', 'civilians', 'throne', 'mechanic', 'traveled', 'applause', 'pavarotti', 'continent', 'gusto', 'relates', 'melt', 'fleeting', 'fleeing', 'tasks', 'overtly', 'alba', 'satisfactory', 'succession', 'pub', 'heartless', 'backwoods', 'potent', 'fiasco', 'neeson', 'proudly', 'mutants', 'grisly', 'slaughtered', 'bon', 'heroin', 'hunky', 'zoom', 'tina', 'vibe', 'subtitled', 'sync', 'anonymous', 'fewer', 'flipping', 'launched', 'ma', 'attic', 'perceived', 'harlin', 'retrieve', 'peaks', 'reruns', 'deadpan', 'legion', 'protecting', 'amoral', 'photograph', 'denial', 'appalled', 'accomplishment', 'sematary', 'ranging', 'happier', 'penis', 'elmer', 'believer', 'brunette', 'imply', 'relaxing', 'encourages', 'aztec', 'electricity', 'rapes', 'quirks', 'monastery', 'lure', 'gen', 'shawn', 'zany', 'wrath', 'loony', 'weaver', 'coleman', 'rotting', 'nerdy', 'numbingly', 'tobe', 'honey', 'cradle', 'virginity', 'penguin', 'mockery', 'dani', 'trendy', 'cortez', 'christensen', 'dickinson', 'oprah', 'mines', 'crenna', 'keitel', 'kusturica', 'tolkien', 'kalifornia', 'darius', 'gram', 'lawyers', 'enthralling', 'hungarian', 'guided', 'worldwide', 'chat', 'truthful', 'pistol', 'recreate', 'millennium', 'steamy', 'prejudices', 'rico', 'alienation', 'disasters', 'bonds', 'garde', 'largest', 'treating', 'custody', 'breakthrough', 'expand', 'compassionate', 'censors', 'continuous', 'hug', 'climate', 'corridors', 'vulnerability', 'doses', 'recovering', 'healing', 'annoyingly', 'hustler', 'jock', 'kiddie', 'leno', 'violently', 'pour', 'placing', 'shrink', 'rack', 'downtown', 'urgency', 'nutty', 'cheesiness', 'janitor', 'dangers', 'temporary', 'undertaker', 'shamelessly', 'upbringing', 'wwi', 'purse', 'notions', 'bliss', 'welcomed', 'roads', 'distinguished', 'improvised', 'feared', 'harbor', 'burden', 'sore', \"o'toole\", 'irresistible', 'irresponsible', 'jolly', 'chocolate', 'pond', 'existential', 'crass', 'assortment', 'tested', 'keeler', 'honeymoon', 'dodge', 'unnerving', 'expressing', 'ash', 'theo', 'imitating', 'examined', 'retelling', 'astronauts', 'astronaut', 'levy', 'rko', 'giggle', 'ranger', 'sloane', 'connolly', 'torch', 'toss', 'moderately', 'darling', 'concentrated', 'backdrops', 'wolves', 'lightly', 'micheal', 'climbs', 'behaves', 'pros', 'academic', 'alexandra', 'watered', 'management', 'dogma', 'rizzo', 'unemployed', 'winners', 'attributes', 'hopeful', 'mandatory', 'jed', 'bucket', 'stalks', 'ossessione', 'lange', 'handy', 'pasolini', 'transformers', 'confession', 'afghanistan', 'interspersed', 'unlucky', 'spitting', 'mcgavin', 'monday', 'smarmy', 'stumbling', 'needlessly', 'hawaii', 'cillian', 'maguire', 'branch', 'induced', 'benoit', 'michaels', 'inhabited', 'ratio', 'duff', 'eddy', 'claw', 'mac', 'khouri', 'horn', 'counted', 'connor', 'philadelphia', 'dietrich', 'daphne', 'bothering', 'slug', 'danning', 'mattei', 'meyers', 'sleuth', 'supremacy', 'ecstasy', 'elisha', 'hector', 'sailors', 'mj', 'durbin', 'mcdowell', 'callahan', 'batwoman', 'delia', 'pals', 'italians', 'volumes', 'planted', 'shattering', 'marathon', 'disdain', 'concentrates', 'penalty', 'rebecca', 'converted', 'undeveloped', 'stature', 'contemplate', 'loathing', 'chapters', 'bash', 'bonding', 'apprentice', 'muted', 'farewell', 'inherited', 'architecture', 'borderline', 'compromise', 'slew', 'lovingly', 'uber', 'corbin', 'conquest', 'knack', 'hardest', 'enhances', 'blink', 'locales', 'boyfriends', 'bombing', 'balloon', 'practices', 'throats', 'disappearing', 'naval', 'approximately', 'cocky', 'insignificant', 'overwhelmed', 'meanings', 'woven', 'insects', 'shaolin', 'priests', 'intellect', 'mutated', 'crouse', 'bearable', 'youngsters', 'concludes', 'wipe', 'il', 'frenzy', 'seinfeld', 'waits', 'elevate', 'discernible', 'azaria', 'rugged', 'coverage', 'cousins', 'adequately', 'incompetence', 'woke', 'lyrical', 'seal', 'restless', 'yearning', 'jessie', 'opponents', 'mold', 'logo', 'bursts', 'rehearsal', 'regrets', 'kingsley', 'psychiatric', 'perceive', 'caution', 'waving', 'submit', 'drivers', 'heavens', 'fairytale', 'snatch', 'stretches', 'expanded', 'barman', 'architect', 'nailed', 'helena', 'rusty', 'choke', 'roommates', 'flea', 'tucker', 'limbs', 'traumatized', 'sessions', 'consisted', 'metropolis', 'casually', 'gage', 'bury', 'vault', 'passions', 'stimulating', 'orgy', 'counterpart', 'poke', 'footsteps', 'screamed', 'levant', 'gimmicks', 'rewrite', 'compositions', 'alligator', 'eater', 'recipe', 'rhys', 'jackass', 'fleming', 'alienate', 'carson', 'supporters', 'corleone', 'bruckheimer', 'amok', 'oppressive', 'barbarian', 'cracker', 'fugitive', 'collecting', 'hesitate', 'passive', 'embarrass', 'lotr', 'cristina', 'neglect', 'irwin', 'cocktail', 'lecture', 'p', 'harlem', 'rosenstrasse', 'skipping', 'lung', 'democracy', 'rainer', 'sheila', 'relied', 'tel', 'islam', 'hispanic', 'tourists', 'wai', 'stupidest', 'marjorie', 'hamill', 'aweigh', 'zabriskie', 'lommel', 'duryea', 'leia', 'dahl', 'teddy', 'stepped', 'loop', 'revelations', 'chains', 'garcia', 'impeccable', 'maiden', 'drifter', 'crawl', 'friendships', 'marred', 'customs', 'adopt', 'entertainer', 'confronting', 'plantation', 'alternately', 'cheaper', 'palette', 'subtleties', 'explanations', 'oddball', 'matching', 'kindness', 'prevalent', 'grain', 'underdog', 'capt', 'vengeful', 'kerr', 'vanishing', 'scantily', 'overacts', 'january', 'miracles', 'render', 'surpasses', 'butterfly', 'lap', 'springs', 'prevented', 'awfulness', 'clumsily', 'strikingly', 'satellite', 'monstrous', 'spears', 'inc', 'intestines', 'superiors', 'rests', 'monstrosity', 'splitting', 'proverbial', 'snappy', 'evolved', 'confirm', 'dreadfully', 'travelling', 'goof', 'mourning', 'betrays', 'email', 'interpret', 'garnered', 'stoic', 'rushes', 'ebay', 'adventurous', 'oriental', 'dusty', 'regain', 'companions', 'locks', 'spectrum', 'dense', 'grandparents', 'discussions', 'cbc', 'tensions', 'brits', 'replay', 'wits', 'regal', 'delve', 'diabolical', 'versatile', 'insanely', 'suggestive', 'spectacularly', 'choreographer', 'fanatics', 'administration', 'eliminate', 'acknowledged', 'documents', 'whipped', 'premises', 'sparse', ';)', 'benson', 'gardens', 'kinky', 'cloud', 'sans', 'empathize', 'squeeze', 'documented', 'witherspoon', 'candidates', 'saddest', 'suspended', 'carole', 'historians', 'listing', 'slipped', 'apologize', 'deception', 'gung', 'technological', 'backing', 'condescending', 'requisite', 'assist', 'immersed', 'brink', 'snippets', 'montages', 'capsule', 'graves', 'slows', 'werner', 'weirdo', 'smoothly', 'drums', 'tedium', 'obscene', 'sleeve', 'usage', 'uncredited', 'cathy', 'november', 'stir', 'thankful', 'sant', 'longtime', 'swamp', 'grumpy', 'revive', 'looney', 'switzerland', 'schumacher', 'grounded', 'conception', 'morgana', 'pauses', 'breathless', 'stereotyping', 'lastly', 'shack', 'telly', 'dripping', 'conduct', 'marquis', 'outrage', 'boxes', 'allison', 'aiello', 'connecting', 'agatha', 'blackie', 'vic', 'smarter', 'goofs', 'napoleon', 'dane', 'dung', 'pranks', 'daisies', 'winston', 'mining', 'lucio', 'jameson', 'zatoichi', 'bolivia', 'maclean', 'pita', 'newcombe', 'btk', 'achieving', 'grips', 'sentenced', 'crummy', 'fireworks', 'voting', 'recalls', 'chairman', 'recreation', 'aristocrat', 'stills', 'realist', 'til', 'societies', 'societal', 'operatic', 'equals', 'psychologically', 'overt', 'operas', 'finch', 'eponymous', 'showtime', 'atrocities', 'universally', 'macbeth', 'honorable', 'variations', 'witless', 'nana', 'bathing', 'stepping', 'krishna', 'misplaced', 'albums', 'beau', 'bass', 'theirs', 'raving', 'attributed', 'wondrous', 'overseas', 'hedy', 'dime', 'roaring', 'incarnation', 'exhibit', 'shadowy', 'gaining', 'nuance', 'rigid', 'throwaway', 'floors', 'celebrating', 'draft', 'allegedly', 'bout', 'illiterate', 'disgruntled', 'villagers', 'camps', 'episodic', 'presumed', 'interpreted', 'duties', 'crowds', 'practicing', 'allied', 'bravery', 'rightfully', 'flee', 'teamed', 'harmony', 'renowned', 'sacrificed', 'streak', 'blaine', 'retain', 'praying', 'creeps', 'unfinished', 'shouts', 'outta', 'backyard', 'mischievous', 'admirably', 'sixty', 'integrated', 'siege', 'pulse', 'illustrates', 'creepiness', 'coarse', 'criminally', 'marvellous', 'exposing', 'untrue', 'darkest', 'locker', 'partial', 'inch', 'inflicted', 'townspeople', 'gamut', 'wal', 'beaver', 'tasteful', 'risks', 'strangest', 'hurting', 'gesture', 'eggs', 'edits', 'quarters', 'stripped', 'marital', 'classified', 'renoir', 'unimpressive', 'babysitter', 'surrogate', 'expertise', 'colonial', 'unborn', 'lamas', 'desolate', 'hare', 'whacked', 'pm', 'norma', 'wellington', 'wolverine', 'skinned', 'hubby', 'hockey', 'corky', 'smitten', 'competently', 'allegory', 'kentucky', 'chore', 'stubborn', 'grady', 'deathstalker', 'ss', 'joanna', 'nuns', 'moonstruck', 'noah', 'itchy', 'carface', 'lieutenant', 'radar', 'ella', 'intruder', 'forgivable', 'bee', 'kamal', 'platoon', 'insulted', 'surfers', 'masturbation', 'stoltz', 'askey', 'ferry', 'dominick', 'greenaway', 'kermit', 'shaq', 'darkman', 'smallest', 'request', 'somber', 'hiv', 'winslet', 'voters', 'unsuccessful', 'transform', 'transcends', 'boarding', 'gladly', 'transferred', 'affections', 'ensuing', 'keyboard', 'complains', 'governor', 'integral', 'colourful', 'mo', 'blends', 'shakes', 'organs', 'planets', 'washing', 'argento', 'spreading', 'shenanigans', 'glee', 'iowa', 'phyllis', 'perfected', 'exposes', 'mcdonald', 'anchorman', 'oblivion', 'sentiments', 'booze', 'hitch', 'orchestral', 'participation', 'weaves', 'capitalize', 'poo', 'schemes', 'hunk', 'lamarr', 'hayward', 'prevents', 'preserved', 'sorta', 'lam', 'decapitated', 'anchor', 'pokes', 'bava', 'unfairly', 'mindset', 'foley', 'behalf', 'patch', 'occurring', 'answering', 'sacred', 'addresses', 'bake', 'chow', 'kerry', 'crop', 'prototype', 'forum', 'raping', 'starving', 'ounce', 'infidelity', 'positions', 'solving', 'tent', 'ate', 'gym', 'reception', 'arizona', 'owning', 'orphanage', 'jaffar', 'stable', 'instruments', 'employs', 'exhausted', 'redeemed', 'plants', 'speechless', 'polite', 'greta', 'council', 'secluded', 'retrospect', 'adored', 'puzzling', 'monumental', 'frenetic', 'circuit', 'skimpy', 'exudes', 'supplies', 'crook', 'yourselves', 'geeky', 'wheels', 'retains', 'texture', 'maniacal', 'consisting', 'eleanor', 'aunts', 'tepid', 'gifts', 'hiring', 'budgeted', 'grabbing', 'horizon', 'rocker', 'hardships', 'wb', 'indulge', 'compound', 'coen', 'emerged', 'exceedingly', 'honour', 'nerds', 'holidays', 'rewind', 'lombard', 'edged', 'uniquely', 'projection', 'geeks', 'poppins', 'aims', 'insecure', 'caroline', 'undertones', 'employ', 'pets', 'mercilessly', 'stalk', 'underused', 'adapting', 'tease', 'kisses', 'olympic', 'virtues', 'merrill', 'catastrophe', 'awakens', 'shue', 'singin', 'pianist', 'foch', 'holm', 'liza', 'avant', 'frenchman', 'shootings', 'sweetheart', 'townsend', 'rub', 'culminating', 'norwegian', 'unnamed', 'goer', 'stray', 'pursues', 'thirteen', 'leopold', 'ppv', 'invent', 'veronica', 'stooge', 'bryan', 'blinded', 'extremes', 'spliced', 'phrases', 'sealed', 'nanny', 'stealth', 'insisted', 'addressing', 'sybil', 'elementary', 'kei', 'wallach', 'viggo', 'mortensen', 'soles', 'rabid', 'romano', 'frye', 'olympia', 'holden', 'prehistoric', 'diver', 'malcolm', 'jovi', 'crow', 'vacuous', 'nielsen', 'yoda', 'piper', 'thinner', 'gilligan', 'minions', 'vets', 'sherry', 'tigerland', 'mcintire', 'flamenco', 'unrated', 'blaxploitation', 'vivah', 'saif', 'tremors', 'amuse', 'abducted', 'enthralled', 'declared', 'iceberg', 'overnight', 'separation', 'pbs', 'peek', 'bicycle', 'heritage', 'connects', 'warped', 'socialist', 'ideology', 'scan', 'outbreak', 'turgid', 'outdoor', 'maintained', 'researched', 'triad', 'ichi', 'gellar', 'impressively', 'spouse', 'hosts', 'boyish', 'housewives', 'staple', 'rumors', 'declares', 'marginally', 'measures', 'announces', 'occupation', 'downside', 'cafe', 'bum', 'bets', 'trumpet', 'stud', 'abominable', 'approval', 'furry', 'renders', 'sheet', 'motif', 'detracts', 'infant', 'sacrificing', 'ethics', 'evolve', 'arbitrary', 'opener', 'seduced', 'hesitation', 'tenderness', 'misfire', 'historian', 'defines', 'baxter', 'dial', 'winded', 'manufactured', 'lighten', 'lent', 'currie', 'skipped', 'knox', 'apartments', 'unremarkable', 'downward', 'conceit', 'robber', 'madly', 'unforgivable', 'reincarnation', 'spoon', 'observing', 'megan', 'drained', 'joyous', 'ewan', 'overweight', 'mcgregor', 'decoration', 'picnic', 'distributor', 'rooted', 'halt', 'excesses', 'basil', 'deformed', 'spawned', 'morgue', 'resurrected', 'flood', 'discount', 'dreamed', 'devastated', 'cassel', 'wicker', 'inspires', 'campers', 'aspirations', 'pronounced', 'outsider', 'download', 'astonished', 'compares', 'bullying', 'savior', 'punished', 'hilary', 'twentieth', 'heiress', 'manchu', 'graces', 'slack', 'sterile', 'calculated', 'guarded', 'differ', 'librarian', 'subconscious', 'recognise', 'fantastically', 'pope', 'promotion', 'dares', 'float', 'cowboys', 'topped', 'qualified', 'mismatched', 'wray', 'competing', 'busted', 'primal', 'recruits', 'weissmuller', 'visitors', 'postman', 'indifference', 'soulless', 'lifelong', 'botched', 'grail', 'grieving', 'excrement', 'wagon', 'rathbone', 'balcony', 'spaces', 'environmental', 'menu', 'stalwart', 'fernando', 'archie', 'partition', 'commando', 'ivy', 'trent', 'fondness', 'zoo', 'endured', 'inheritance', 'giggles', 'blessing', 'jeep', 'uneducated', 'wendt', 'closeups', 'assembly', 'nicky', 'exaggeration', 'formidable', 'hayden', 'talkie', 'harp', 'gardner', 'bathtub', 'enlightened', 'atwill', 'upsetting', 'michel', 'tomlinson', 'yea', 'reeks', 'byrne', 'loudly', 'stretching', 'acquire', 'bathsheba', 'conroy', 'celie', 'willem', 'pazu', 'sheeta', 'skywalker', 'ashraf', 'forwarding', 'beta', 'robbie', 'hilliard', 'revolting', 'chimney', 'stefan', 'sabretooth', 'manos', 'zenia', 'hackenstein', 'critically', 'impersonation', 'devious', 'plods', 'habits', 'utilized', 'slob', 'usher', 'mpaa', 'memoirs', 'distraught', 'intends', 'warnings', 'dock', 'aristocratic', 'posed', 'twenties', 'eroticism', 'accompany', 'sexes', 'reversed', 'transvestite', 'blending', 'canvas', 'searches', 'houston', 'log', 'notoriety', 'craziness', 'manor', 'bumps', 'denied', 'tanks', 'plausibility', 'recruit', 'quoting', 'fearing', 'blurred', 'abbott', 'misfits', 'puri', 'digs', 'sordid', 'coincidences', 'smashed', 'surrounds', 'dripped', 'palpable', 'escapist', 'figuring', 'gossip', 'approved', 'bags', 'smuggling', 'erik', 'sigh', 'elegance', 'surpassed', 'stereo', 'malta', 'familiarity', 'indicates', 'restore', 'funds', 'thaw', 'fulfilled', 'raiders', 'opposing', 'slapping', 'proclaimed', 'participating', 'esteem', 'premier', 'untalented', 'charity', 'duncan', 'erratic', 'aplomb', 'punchline', 'humphrey', 'spray', 'outlook', 'poignancy', 'unbearably', 'bagdad', 'sorcery', 'departments', 'circumstance', 'pouring', 'ponder', 'commentaries', 'railroad', 'intimacy', 'vanishes', 'housing', 'shootouts', 'capra', 'amiable', 'pimp', 'tempered', 'expressive', 'neutral', 'shtick', 'gum', 'baffled', 'distasteful', 'danced', 'waterfall', 'patterns', 'den', 'traitor', 'prestigious', 'declare', 'keller', 'anniversary', 'lambs', 'liquor', 'shapes', 'complexities', 'options', 'implication', 'instructor', 'theft', 'recommending', 'sap', 'speaker', 'distributors', 'carrier', 'armageddon', 'fluffy', 'therein', 'textbook', 'cues', 'intrusive', 'edwards', 'canon', 'lump', 'ethel', 'rainbow', 'clubs', 'brash', 'helm', 'pressures', 'nell', 'gi', 'masquerading', 'struggled', 'stylistic', 'bickering', 'amusingly', 'ax', 'eliminated', 'rooker', 'featurette', 'ranges', 'checks', 'nods', 'irs', 'stakes', 'competitive', 'tomato', 'hick', 'ilk', 'restoration', 'raft', 'dale', 'salem', 'greats', 'flirting', 'fort', 'crushing', 'narcissistic', 'beef', 'poking', 'banana', 'billie', 'actuality', 'di', 'threats', 'surrealism', 'effortless', 'researcher', 'opponent', 'schtick', 'scaring', 'monotone', 'bowling', 'inherently', 'hanna', 'demonstration', 'runtime', 'dam', 'dakota', 'puns', 'employer', 'wrestlemania', 'maya', 'summarize', 'haha', 'durante', 'freely', 'raven', 'ranting', 'allusions', 'mcshane', 'pollack', 'denmark', 'mormons', 'talentless', 'steiner', 'instrument', 'crispin', 'recognised', 'renee', 'tenants', 'defence', 'gertrude', 'fiennes', 'resurrection', 'artful', 'patton', 'sullavan', 'aviv', 'dench', 'groan', 'newhart', 'baseketball', 'ripley', 'costner', 'putrid', 'marlene', 'ransom', 'gomez', 'amber', 'binoche', 'donner', 'walters', 'turturro', 'hagen', 'venezuela', 'vietnamese', 'hitchhiker', 'eustache', 'cambodia', 'kriemhild', 'hagar', 'savini', 'lordi']\n"
          ]
        }
      ]
    },
    {
      "cell_type": "code",
      "source": [
        "!wget http://ai.stanford.edu/~amaas/data/sentiment/aclImdb_v1.tar.gz \n",
        "!tar -xf aclImdb_v1.tar.gz\n",
        "positive_reviews = !ls -1 -d aclImdb/train/pos/*\n",
        "negative_reviews = !ls -1 -d aclImdb/train/neg/*\n",
        "unsupervised_reviews = !ls -1 -d aclImdb/train/unsup/*\n",
        "\n",
        "vocabulary = set()\n",
        "\n",
        "with open('./aclImdb/imdb.vocab') as vocab_file:\n",
        "  for word in vocab_file:\n",
        "    vocabulary.add(word.rstrip())\n",
        "\n",
        "with open(positive_reviews[0]) as review:\n",
        "  for line in review:\n",
        "    for word in line.rstrip().split(' '):\n",
        "      if word not in vocabulary:\n",
        "        print(word)\n",
        "        \n",
        "from spacy.lang.en import English\n",
        "nlp = English()\n",
        "# Create a Tokenizer with the default settings for English\n",
        "# including punctuation rules and exceptions\n",
        "tokenizer = nlp.Defaults.create_tokenizer(nlp)\n",
        "counts = {}\n",
        "for review in positive_reviews + negative_reviews:\n",
        "  with open(review) as review:\n",
        "    for line in review:\n",
        "      for word in tokenizer(line.rstrip().lower()):\n",
        "        if word.text not in vocabulary:\n",
        "          pass\n",
        "        else:\n",
        "          counts[word.text] = counts.get(word.text,0) + 1\n",
        "\n",
        "count2words = {}\n",
        "for word in counts:\n",
        "  count = counts[word]\n",
        "  if count not in count2words:\n",
        "    count2words[count] = []\n",
        "  count2words[count].append(word)\n",
        "\n",
        "running_total = 0\n",
        "vocabulary = []\n",
        "for count in reversed(sorted(count2words)):\n",
        "  running_total += len(count2words[count])\n",
        "  vocabulary += count2words[count]\n",
        "  if running_total > 10000:\n",
        "    break"
      ],
      "metadata": {
        "colab": {
          "base_uri": "https://localhost:8080/"
        },
        "id": "ni7dUSj2KDy6",
        "outputId": "218e5195-1009-44e4-d3aa-8d17284d82cc"
      },
      "execution_count": 5,
      "outputs": [
        {
          "output_type": "stream",
          "name": "stdout",
          "text": [
            "--2022-03-04 01:08:42--  http://ai.stanford.edu/~amaas/data/sentiment/aclImdb_v1.tar.gz\n",
            "Resolving ai.stanford.edu (ai.stanford.edu)... 171.64.68.10\n",
            "Connecting to ai.stanford.edu (ai.stanford.edu)|171.64.68.10|:80... connected.\n",
            "HTTP request sent, awaiting response... 200 OK\n",
            "Length: 84125825 (80M) [application/x-gzip]\n",
            "Saving to: ‘aclImdb_v1.tar.gz.1’\n",
            "\n",
            "aclImdb_v1.tar.gz.1 100%[===================>]  80.23M  18.9MB/s    in 7.0s    \n",
            "\n",
            "2022-03-04 01:08:49 (11.5 MB/s) - ‘aclImdb_v1.tar.gz.1’ saved [84125825/84125825]\n",
            "\n",
            "Bromwell\n",
            "High\n",
            "comedy.\n",
            "It\n",
            "life,\n",
            "\"Teachers\".\n",
            "My\n",
            "35\n",
            "Bromwell\n",
            "High's\n",
            "\"Teachers\".\n",
            "The\n",
            "financially,\n",
            "teachers'\n",
            "pomp,\n",
            "situation,\n",
            "I\n",
            "students.\n",
            "When\n",
            "I\n",
            "school,\n",
            "I\n",
            ".........\n",
            "..........\n",
            "High.\n",
            "A\n",
            "line:\n",
            "INSPECTOR:\n",
            "I'm\n",
            "teachers.\n",
            "STUDENT:\n",
            "Welcome\n",
            "Bromwell\n",
            "High.\n",
            "I\n",
            "Bromwell\n",
            "High\n",
            "fetched.\n",
            "What\n",
            "isn't!\n"
          ]
        }
      ]
    },
    {
      "cell_type": "code",
      "source": [
        "!wget -O corpus.zip https://digitalrepository.wheatoncollege.edu/bitstream/handle/11040/24451/Shakespeare%20Corpus%20by%20Play.zip?sequence=1&isAllowed=y \n",
        "!unzip -o corpus.zip\n",
        "!wget http://ai.stanford.edu/~amaas/data/sentiment/aclImdb_v1.tar.gz \n",
        "!tar -xf aclImdb_v1.tar.gz\n",
        "files = !ls Shake*/*/*_noSCRB.txt \n",
        "files = [file[1:-1] for file in files]\n",
        "\n",
        "!pip install spacy"
      ],
      "metadata": {
        "id": "Od4BDAZtKKyy"
      },
      "execution_count": null,
      "outputs": []
    },
    {
      "cell_type": "markdown",
      "metadata": {
        "id": "VOXa3Gd2aTRA"
      },
      "source": [
        "We can now tokenize our text and the things we ignore are *mostly* puncutation (most tokenizers will split contractions like I'm into I and 'm which happens here, but the original vocab doesn't expect -- we will just let that happen here)\n",
        "\n",
        "\n",
        "#Step 1\n",
        "\n",
        "Fill out the function below to:\n",
        "\n",
        "* Tokenize a document\n",
        "* Extract all n-grams and their counts of the given order\n",
        "\n",
        "* It's ok to utilize your work from the first assignment here (although use SpaCy and go to lower case)"
      ]
    },
    {
      "cell_type": "code",
      "source": [
        "from spacy.tokenizer import Tokenizer\n",
        "from spacy.lang.en import English\n",
        "nlp = English()\n",
        "# Create a blank Tokenizer with just the English vocab\n",
        "tokenizer = Tokenizer(nlp.vocab)\n",
        "\n",
        "# Construction 2\n",
        "from spacy.lang.en import English\n",
        "nlp = English()\n",
        "# Create a Tokenizer with the default settings for English\n",
        "# including punctuation rules and exceptions\n",
        "tokenizer = nlp.tokenizer\n",
        "\n",
        "def get_n_grams(filename,n):\n",
        "  ngrams = {}\n",
        "  texts = []\n",
        "  test = []\n",
        "\n",
        "  filex = open(filename,'r')\n",
        "  tokens = tokenizer(filex.read())\n",
        "  for token in tokens:\n",
        "    test.append(token.lemma_.lower())\n",
        "  texts.append(test)\n",
        "  #Text is a list of lists\n",
        "  for text in texts:\n",
        "    # iterate through each list (-n + 1 because of the nested for loop we dont want to go out of range and len(array) doesnt take into account 0)\n",
        "    for i in range(len(text) - n + 1):\n",
        "      temp = [] \n",
        "      # now iterate through the list j values which is the length of n to save our string values into a tuple\n",
        "      for j in range(n):\n",
        "        temp.append(text[i+j])\n",
        "      tuple_temp = tuple(temp)\n",
        "      # save the tuple as a key at increment it by one if it exists already \n",
        "      if tuple_temp in ngrams.keys():\n",
        "        ngrams[tuple_temp] += 1\n",
        "      # or set it to one on the first occurence\n",
        "      else:\n",
        "        ngrams[tuple_temp] = 1\n",
        "\n",
        "  return ngrams\n"
      ],
      "metadata": {
        "id": "ekL1ZkdZne1x",
        "outputId": "ee6b6ff2-f913-4fa3-96f9-0999aff7b977",
        "colab": {
          "base_uri": "https://localhost:8080/"
        }
      },
      "execution_count": 7,
      "outputs": [
        {
          "output_type": "stream",
          "name": "stdout",
          "text": [
            "39\n"
          ]
        }
      ]
    },
    {
      "cell_type": "markdown",
      "metadata": {
        "id": "IRYAEI6EEsvz"
      },
      "source": [
        "We are going to use Stochastic Gradient Descent to learn the weights for our regression, and we will be utilizing the PyTorch library to do so"
      ]
    },
    {
      "cell_type": "code",
      "metadata": {
        "id": "N2iPFoIij719"
      },
      "source": [
        "import torch\n",
        "import torch.nn"
      ],
      "execution_count": 2,
      "outputs": []
    },
    {
      "cell_type": "markdown",
      "metadata": {
        "id": "nENMjMTDej3v"
      },
      "source": [
        "With the ability to extract out n-grams, we will now be constructing a linear classifier.  To do this, we will need to set up our data.  \n",
        "\n",
        "#Step 2\n",
        "\n",
        "* Make a $|D|\\times|unigrams|$ tensor (`torch.Tensor`) , `X_unigrams` that contains all of the unigram counts for the documents -- each row should be a document and each column should be a unigram -- each cell corresponding to the number of times the unigram corresponding to the column shows up in the document corresponding to the row  \n",
        "i.e., $X_{unigrams}[i,j] = $ Count of unigram $j$ in document $i$\n",
        "* Make a $|D|\\times1$ tensor, `Y` that contains the ratings for the documents -- we will say that a positive review has a rating of `1` and a negative review is `0`\n",
        "*In torch, if we want to use a GPU for the training we need to move the data to the GPU using `.to('cuda')`.  For this to work you will need to make sure you are using a GPU instance (Runtime > Change Runtime Type > Hardware Accelerator = GPU)"
      ]
    },
    {
      "cell_type": "code",
      "metadata": {
        "id": "jAiUqVNwXb57",
        "colab": {
          "base_uri": "https://localhost:8080/",
          "height": 235
        },
        "outputId": "062a7392-a236-4955-dd30-2e74c2bc9a1e"
      },
      "source": [
        "n = 1\n",
        "\n",
        "data = []\n",
        "for filename in unsupervised_reviews:\n",
        "  row_data = []\n",
        "  gram = get_n_grams(filename, n)\n",
        "  for i in range(len(vocabulary)):\n",
        "    temp_list = []\n",
        "    for j in range(n):\n",
        "      temp_list.append(vocabulary[i])\n",
        "    cmp_tuple = tuple(temp_list)\n",
        "    if cmp_tuple in gram.keys():\n",
        "      row_data.append(gram[cmp_tuple])\n",
        "    else:\n",
        "      row_data.append(0)\n",
        "  data.append(row_data)\n",
        "\n",
        "if torch.cuda.is_available():\n",
        "  device = torch.device(\"cuda\")\n",
        "  X_unigrams = torch.tensor(data)\n",
        "print(X_unigrams)"
      ],
      "execution_count": 29,
      "outputs": [
        {
          "output_type": "error",
          "ename": "KeyboardInterrupt",
          "evalue": "ignored",
          "traceback": [
            "\u001b[0;31m---------------------------------------------------------------------------\u001b[0m",
            "\u001b[0;31mKeyboardInterrupt\u001b[0m                         Traceback (most recent call last)",
            "\u001b[0;32m<ipython-input-29-570cb30179c0>\u001b[0m in \u001b[0;36m<module>\u001b[0;34m()\u001b[0m\n\u001b[1;32m      9\u001b[0m     \u001b[0;32mfor\u001b[0m \u001b[0mj\u001b[0m \u001b[0;32min\u001b[0m \u001b[0mrange\u001b[0m\u001b[0;34m(\u001b[0m\u001b[0mn\u001b[0m\u001b[0;34m)\u001b[0m\u001b[0;34m:\u001b[0m\u001b[0;34m\u001b[0m\u001b[0;34m\u001b[0m\u001b[0m\n\u001b[1;32m     10\u001b[0m       \u001b[0mtemp_list\u001b[0m\u001b[0;34m.\u001b[0m\u001b[0mappend\u001b[0m\u001b[0;34m(\u001b[0m\u001b[0mvocabulary\u001b[0m\u001b[0;34m[\u001b[0m\u001b[0mi\u001b[0m\u001b[0;34m]\u001b[0m\u001b[0;34m)\u001b[0m\u001b[0;34m\u001b[0m\u001b[0;34m\u001b[0m\u001b[0m\n\u001b[0;32m---> 11\u001b[0;31m     \u001b[0mcmp_tuple\u001b[0m \u001b[0;34m=\u001b[0m \u001b[0mtuple\u001b[0m\u001b[0;34m(\u001b[0m\u001b[0mtemp_list\u001b[0m\u001b[0;34m)\u001b[0m\u001b[0;34m\u001b[0m\u001b[0;34m\u001b[0m\u001b[0m\n\u001b[0m\u001b[1;32m     12\u001b[0m     \u001b[0;32mif\u001b[0m \u001b[0mcmp_tuple\u001b[0m \u001b[0;32min\u001b[0m \u001b[0mgram\u001b[0m\u001b[0;34m.\u001b[0m\u001b[0mkeys\u001b[0m\u001b[0;34m(\u001b[0m\u001b[0;34m)\u001b[0m\u001b[0;34m:\u001b[0m\u001b[0;34m\u001b[0m\u001b[0;34m\u001b[0m\u001b[0m\n\u001b[1;32m     13\u001b[0m       \u001b[0mrow_data\u001b[0m\u001b[0;34m.\u001b[0m\u001b[0mappend\u001b[0m\u001b[0;34m(\u001b[0m\u001b[0mgram\u001b[0m\u001b[0;34m[\u001b[0m\u001b[0mcmp_tuple\u001b[0m\u001b[0;34m]\u001b[0m\u001b[0;34m)\u001b[0m\u001b[0;34m\u001b[0m\u001b[0;34m\u001b[0m\u001b[0m\n",
            "\u001b[0;31mKeyboardInterrupt\u001b[0m: "
          ]
        }
      ]
    },
    {
      "cell_type": "markdown",
      "metadata": {
        "id": "JecKqSs-JeYn"
      },
      "source": [
        "We will first construct a module that does what we want.  In torch you implement modules and you define the forward pass of the model (Torch uses autograd to automatically compute the backward pass based on the forward pass). \n",
        "\n",
        "#Step 3\n",
        "* Implement the linear regression using Torch\n",
        "* You will want to use a `torch.nn.Linear` layer -- The linear layer is essentially a matrix multiplication as shown in class  -- think about what the input dimension and output dimensions should be (how big is our input, how many things are we predicting)\n"
      ]
    },
    {
      "cell_type": "code",
      "metadata": {
        "id": "dAWNjtPfiFXz"
      },
      "source": [
        "class LinearRegression(nn.Module):\n",
        "  def __init__(self, size):\n",
        "    super(LinearRegression, self).__init__()\n",
        "    raise NotImplementedError(\"STEP 3 -- initialize the weights\")\n",
        "  def forward(self,X):\n",
        "    raise NotImplementedError(\"STEP 3 -- compute the forward pass\")"
      ],
      "execution_count": null,
      "outputs": []
    },
    {
      "cell_type": "markdown",
      "metadata": {
        "id": "fAMXe-LiK7uD"
      },
      "source": [
        "With the above model, we now need to actually train it.  We are going to use a pretty simple training regimen here.\n",
        "\n",
        "#Step 4 \n",
        "* Create the optimizer -- I recommend using the Adam optimizer (`optim.Adam`) -- optimizers take in the parameters that they are optimizing (`model.parameters`) and other hyperparameters like the learning rate (`lr=learning_rate`)\n",
        "* Loop for the number of `epochs` supplied to the training code -- this will be the number of passes over our data\n",
        "* In each epoch we will loop over the data in batches -- go from 0 up to the size of `X` in steps of size `batch_size`\n",
        "* Within each training step we will need to follow the steps of training a neural network:\n",
        " * Zero out the gradients in the optimizer (by default the gradients are kept around) by calling `.zero_grad()` on the optimizer\n",
        " * Get the current batch -- we can use *slicing* to get certain elements in our input and output.  E.g. `X[i:i+step_size,:]` would return a Tensor with elements from X from row i to row i+step_size and all of the columns\n",
        " * Run the model on the batch making sure to assign the result to a variable -- you can either call `.forward(...)` or more simply just call the model `(...)`\n",
        " * Calculate the loss of the output -- this is done by calling the `loss_criterion` with the predicted values and the true values as the first and second arguments respectively\n",
        " * Run the loss in the backward direction -- Call `.backward()` on the loss calcualted in the previous step\n",
        " * Step the optimizer -- Call `.step()` on the optimizer\n",
        " * You might want to do something like log the value of the loss -- this can be gotten by calling `.item()` on the loss calculated above -- perhaps do this every 5, 10, 50, 100, 500 epochs (your choice)"
      ]
    },
    {
      "cell_type": "code",
      "metadata": {
        "id": "fl_GpD5_iGPy"
      },
      "source": [
        "import torch.optim as optim\n",
        "\n",
        "\n",
        "def train(X, Y, model, batch_size, epochs, learning_rate, loss_criterion):\n",
        "  \"\"\"Train using a pytorch model with batches\"\"\"\n",
        "  # create the optimizer\n",
        "  optimizer = optim.Adam(model.parameters(), lr=learning_rate)\n",
        "\n",
        "  #Loop over each epoch\n",
        "  #Loop over each batch\n",
        "  # zero the gradient buffers\n",
        "  # compute the output\n",
        "  #calculate the loss\n",
        "  # run the loss in the backward direction\n",
        "  # update the weights"
      ],
      "execution_count": null,
      "outputs": []
    },
    {
      "cell_type": "markdown",
      "metadata": {
        "id": "16a5m2YnMoZu"
      },
      "source": [
        "#Step 5\n",
        "* Construct your model \n",
        "* Just as with the data above, if you want to use a GPU we have to tell torch to move the model (and parameters to the gpu) so you need to call `.to('cuda')` (Note this does not change the original model, it returns a model on the gpu so you probably want to do something like `model = model.to('cuda')`\n",
        "* Call the above training code -- watch how the loss changes as the model trains -- experiment with different training hyperparameters -- learning rate and epoch -- see when the model hits a minima\n",
        "* For a linear regression, we are using Mean Square Error as our loss `torch.nn.MSELoss`"
      ]
    },
    {
      "cell_type": "code",
      "metadata": {
        "id": "NFStqz95MgqQ"
      },
      "source": [
        "raise NotImplementedError(\"STEP 5 Set up the model and data in torch -- run the training code\")"
      ],
      "execution_count": null,
      "outputs": []
    },
    {
      "cell_type": "markdown",
      "metadata": {
        "id": "9_W6f7iLQJV3"
      },
      "source": [
        "\n",
        "#Step 6\n",
        "* Implement the class below -- you should have two linear weights  (Input -> Hidden), (Hidden -> Output)\n",
        "* In your forward, make sure you apply a nonlinear activation function after going from (Input -> Hidden) before (Hidden -> Output) -- you can choose the nonlinear activation (sigmoid, tanh, relu, leaky-relu are all fine)\n",
        "* Train the model\n",
        "\n",
        "###Question 2\n",
        "How does this model compare to the above model?"
      ]
    },
    {
      "cell_type": "code",
      "metadata": {
        "id": "kFL8_XzJQa52"
      },
      "source": [
        "class NonLinearRegression(nn.Module):\n",
        "  def __init__(self, size):\n",
        "    super(NonLinearRegression, self).__init__()\n",
        "    raise NotImplementedError(\"STEP 6 -- initialize the weights\")\n",
        "  def forward(self,X):\n",
        "    raise NotImplementedError(\"STEP 6 -- compute the forward pass\")"
      ],
      "execution_count": null,
      "outputs": []
    },
    {
      "cell_type": "markdown",
      "metadata": {
        "id": "aZRcvYJBaUtZ"
      },
      "source": [
        "Ok, we have a linear regression and a non-linear regression -- let's do a Logistic Regression and non-linear Logistic regression now:\n",
        "#Step 7\n",
        "* Implement a standard logistic regression and a logistic regression with a hidden layer and non-linear activation\n",
        "* These should be very similar to above except they should have `torch.Sigmoid` applied to the output\n",
        "* Note, `MSELoss` is no longer applicable here -- we need to use Binary Cross Entropy Loss `torch.nn.BCELoss`"
      ]
    },
    {
      "cell_type": "code",
      "metadata": {
        "id": "JRHAMOm9a12l"
      },
      "source": [
        "class LogisticRegression(nn.Module):\n",
        "  def __init__(self, size):\n",
        "    super(LogisticRegression, self).__init__()\n",
        "    raise NotImplementedError(\"STEP 7 -- initialize the weights\")\n",
        "  def forward(self,X):\n",
        "    raise NotImplementedError(\"STEP 7 -- compute the forward pass\")\n",
        "\n",
        "\n",
        "class LogisticANN(nn.Module):\n",
        "  def __init__(self, size):\n",
        "    super(LogisticANN, self).__init__()\n",
        "    raise NotImplementedError(\"STEP 7 -- initialize the weights\")\n",
        "  def forward(self,X):\n",
        "    raise NotImplementedError(\"STEP 7 -- compute the forward pass\")"
      ],
      "execution_count": null,
      "outputs": []
    },
    {
      "cell_type": "markdown",
      "metadata": {
        "id": "ToziSarXRQAQ"
      },
      "source": [
        "# Step 8\n",
        "* This step is somewhat freeform -- just as it would be if you were doing exploratory resarch\n",
        "* Try doing some exploration of different models.  Some things you might try are:\n",
        " * different configurations of inputs (different order n-grams, combinations of n-grams)\n",
        " * different numbers and sizes of input layers\n",
        " * different non-linear activations\n",
        "\n",
        "* Normally, you should pick the model that does the best not on training data, but on the evaluation data.  Since this dataset doesn't come with an evaluation set, we will instead be using the test set as our evaluation set (this is obviously poor practice, and should not be done in the real world).  Or rather we will be using a portion of the test files as evaluation.\n",
        "\n",
        "* Pick a model architecture, train it, run it on the eval data \n",
        "* Do this multiple times, keep the best model \n",
        "\n",
        "#### Question 3:\n",
        "How do you pick the \"best\" model -- what metric do you want to use here?\n",
        "\n",
        "* As a note, there will be n-grams that show up in the evaluation and training sets that don't show up in the training data, you will have to be able to account for this (of course, ignoring is acceptable) but your code shouldn't fail\n"
      ]
    },
    {
      "cell_type": "code",
      "metadata": {
        "id": "QuHobLp1ScBi"
      },
      "source": [
        "positive_raw_test = !ls -1 -d aclImdb/test/pos/*\n",
        "negative_raw_test = !ls -1 -d aclImdb/test/neg/*"
      ],
      "execution_count": null,
      "outputs": []
    },
    {
      "cell_type": "code",
      "metadata": {
        "id": "G5sC6wBUTJPG"
      },
      "source": [
        "positive_eval = positive_raw_test[:len(positive_raw_test)//4]\n",
        "negative_eval = negative_raw_test[:len(negative_raw_test)//4]\n",
        "positive_test = positive_raw_test[len(positive_test)//4:]\n",
        "negative_test = negative_raw_test[len(negative_raw_test)//4:]"
      ],
      "execution_count": null,
      "outputs": []
    },
    {
      "cell_type": "code",
      "metadata": {
        "id": "8QKSuebJTPZP"
      },
      "source": [
        "raise NotImplementedError(\"STEP 7 Search through more advanced models\")"
      ],
      "execution_count": null,
      "outputs": []
    },
    {
      "cell_type": "markdown",
      "metadata": {
        "id": "1VpPC8pGUrUE"
      },
      "source": [
        "## Bonus: Augment with unsupervised data\n",
        "* The dataset comes with more unsupervised data than supervised -- come up with a way to augment your training set with the unsupervised data, such that your model performance improves (to do this comparison keep model architecture the same, and compare the augmented data model vs the original on the evaluation set)"
      ]
    }
  ]
}